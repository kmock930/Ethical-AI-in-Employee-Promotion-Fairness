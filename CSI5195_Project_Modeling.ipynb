{
  "cells": [
    {
      "cell_type": "markdown",
      "metadata": {},
      "source": [
        "Codes done by **Yifan Qin** (<url>yqin092@uottawa.ca</url>) at: \n",
        "\n",
        "<url>https://colab.research.google.com/drive/1OniUG7P2u4veiMInxAxWDru7BHsxAjJV?usp=sharing</url>"
      ]
    },
    {
      "cell_type": "markdown",
      "metadata": {
        "id": "2e1xFhoOBE72"
      },
      "source": [
        "## Section 1: Environment Setup"
      ]
    },
    {
      "cell_type": "code",
      "execution_count": 1,
      "metadata": {
        "colab": {
          "base_uri": "https://localhost:8080/"
        },
        "id": "oHyqKFBdcb3t",
        "outputId": "f446796c-1321-4fb7-8c14-00dcfe0a7fbc"
      },
      "outputs": [
        {
          "name": "stdout",
          "output_type": "stream",
          "text": [
            "CUDA available:  False\n"
          ]
        }
      ],
      "source": [
        "# Check cuda\n",
        "import torch\n",
        "cuda_available = False\n",
        "if (hasattr(torch, 'cuda')):\n",
        "    cuda_available = torch.cuda.is_available()\n",
        "print(\"CUDA available: \", cuda_available)"
      ]
    },
    {
      "cell_type": "markdown",
      "metadata": {
        "id": "7oujafDkBJDW"
      },
      "source": [
        "## Section 2: Import Libraries"
      ]
    },
    {
      "cell_type": "code",
      "execution_count": 2,
      "metadata": {
        "id": "WuQ30ridBdgu"
      },
      "outputs": [],
      "source": [
        "# Basic Python Library\n",
        "import sys\n",
        "import time\n",
        "import math\n",
        "import random\n",
        "from collections import Counter\n",
        "import collections\n",
        "from typing import List, Tuple, Dict, Set, Union\n",
        "\n",
        "# Numpy, Pandas and Tensor\n",
        "import numpy as np\n",
        "import tensorflow as tf\n",
        "import torch\n",
        "import pandas as pd\n",
        "\n",
        "# plot\n",
        "import matplotlib.pyplot as plt\n",
        "\n",
        "# os\n",
        "import os\n",
        "\n",
        "# joblib\n",
        "import joblib\n",
        "\n",
        "# sklearn\n",
        "from sklearn.utils import shuffle\n",
        "from sklearn.model_selection import train_test_split, GridSearchCV, cross_val_score, KFold\n",
        "from sklearn.svm import SVC\n",
        "from sklearn.ensemble import RandomForestClassifier\n",
        "from sklearn.neighbors import KNeighborsClassifier\n",
        "from sklearn.metrics import roc_curve, auc, roc_auc_score, confusion_matrix\n",
        "from sklearn.metrics import classification_report, f1_score, accuracy_score\n",
        "from sklearn.metrics import ConfusionMatrixDisplay\n",
        "from sklearn.neural_network import MLPClassifier\n",
        "from sklearn.cluster import KMeans\n",
        "from collections import defaultdict"
      ]
    },
    {
      "cell_type": "markdown",
      "metadata": {
        "id": "eOkemls2BNhi"
      },
      "source": [
        "## Section 3: Import Dataset"
      ]
    },
    {
      "cell_type": "code",
      "execution_count": 3,
      "metadata": {},
      "outputs": [],
      "source": [
        "ROOT = os.path.join(\n",
        "    os.path.dirname(os.path.abspath(os.path.dirname(os.curdir))),\n",
        "    'Project'\n",
        ")"
      ]
    },
    {
      "cell_type": "code",
      "execution_count": 4,
      "metadata": {
        "colab": {
          "base_uri": "https://localhost:8080/",
          "height": 530
        },
        "id": "u_844dmUBlkW",
        "outputId": "c3ec00b5-112d-49fd-a3b3-c5a28bda79a3"
      },
      "outputs": [
        {
          "data": {
            "application/vnd.microsoft.datawrangler.viewer.v0+json": {
              "columns": [
                {
                  "name": "index",
                  "rawType": "int64",
                  "type": "integer"
                },
                {
                  "name": "employee_id",
                  "rawType": "int64",
                  "type": "integer"
                },
                {
                  "name": "department",
                  "rawType": "object",
                  "type": "string"
                },
                {
                  "name": "region",
                  "rawType": "object",
                  "type": "string"
                },
                {
                  "name": "education",
                  "rawType": "object",
                  "type": "unknown"
                },
                {
                  "name": "gender",
                  "rawType": "object",
                  "type": "string"
                },
                {
                  "name": "recruitment_channel",
                  "rawType": "object",
                  "type": "string"
                },
                {
                  "name": "no_of_trainings",
                  "rawType": "int64",
                  "type": "integer"
                },
                {
                  "name": "age",
                  "rawType": "int64",
                  "type": "integer"
                },
                {
                  "name": "previous_year_rating",
                  "rawType": "float64",
                  "type": "float"
                },
                {
                  "name": "length_of_service",
                  "rawType": "int64",
                  "type": "integer"
                },
                {
                  "name": "awards_won?",
                  "rawType": "int64",
                  "type": "integer"
                },
                {
                  "name": "avg_training_score",
                  "rawType": "int64",
                  "type": "integer"
                },
                {
                  "name": "is_promoted",
                  "rawType": "int64",
                  "type": "integer"
                }
              ],
              "conversionMethod": "pd.DataFrame",
              "ref": "6236489a-4af1-4a0d-829f-b8f380367b5c",
              "rows": [
                [
                  "0",
                  "65438",
                  "Sales & Marketing",
                  "region_7",
                  "Master's & above",
                  "f",
                  "sourcing",
                  "1",
                  "35",
                  "5.0",
                  "8",
                  "0",
                  "49",
                  "0"
                ],
                [
                  "1",
                  "65141",
                  "Operations",
                  "region_22",
                  "Bachelor's",
                  "m",
                  "other",
                  "1",
                  "30",
                  "5.0",
                  "4",
                  "0",
                  "60",
                  "0"
                ],
                [
                  "2",
                  "7513",
                  "Sales & Marketing",
                  "region_19",
                  "Bachelor's",
                  "m",
                  "sourcing",
                  "1",
                  "34",
                  "3.0",
                  "7",
                  "0",
                  "50",
                  "0"
                ],
                [
                  "3",
                  "2542",
                  "Sales & Marketing",
                  "region_23",
                  "Bachelor's",
                  "m",
                  "other",
                  "2",
                  "39",
                  "1.0",
                  "10",
                  "0",
                  "50",
                  "0"
                ],
                [
                  "4",
                  "48945",
                  "Technology",
                  "region_26",
                  "Bachelor's",
                  "m",
                  "other",
                  "1",
                  "45",
                  "3.0",
                  "2",
                  "0",
                  "73",
                  "0"
                ],
                [
                  "5",
                  "58896",
                  "Analytics",
                  "region_2",
                  "Bachelor's",
                  "m",
                  "sourcing",
                  "2",
                  "31",
                  "3.0",
                  "7",
                  "0",
                  "85",
                  "0"
                ],
                [
                  "6",
                  "20379",
                  "Operations",
                  "region_20",
                  "Bachelor's",
                  "f",
                  "other",
                  "1",
                  "31",
                  "3.0",
                  "5",
                  "0",
                  "59",
                  "0"
                ],
                [
                  "7",
                  "16290",
                  "Operations",
                  "region_34",
                  "Master's & above",
                  "m",
                  "sourcing",
                  "1",
                  "33",
                  "3.0",
                  "6",
                  "0",
                  "63",
                  "0"
                ],
                [
                  "8",
                  "73202",
                  "Analytics",
                  "region_20",
                  "Bachelor's",
                  "m",
                  "other",
                  "1",
                  "28",
                  "4.0",
                  "5",
                  "0",
                  "83",
                  "0"
                ],
                [
                  "9",
                  "28911",
                  "Sales & Marketing",
                  "region_1",
                  "Master's & above",
                  "m",
                  "sourcing",
                  "1",
                  "32",
                  "5.0",
                  "5",
                  "0",
                  "54",
                  "0"
                ],
                [
                  "10",
                  "29934",
                  "Technology",
                  "region_23",
                  null,
                  "m",
                  "sourcing",
                  "1",
                  "30",
                  null,
                  "1",
                  "0",
                  "77",
                  "0"
                ],
                [
                  "11",
                  "49017",
                  "Sales & Marketing",
                  "region_7",
                  "Bachelor's",
                  "f",
                  "sourcing",
                  "1",
                  "35",
                  "5.0",
                  "3",
                  "0",
                  "50",
                  "1"
                ],
                [
                  "12",
                  "60051",
                  "Sales & Marketing",
                  "region_4",
                  "Bachelor's",
                  "m",
                  "sourcing",
                  "1",
                  "49",
                  "5.0",
                  "5",
                  "0",
                  "49",
                  "0"
                ],
                [
                  "13",
                  "38401",
                  "Technology",
                  "region_29",
                  "Master's & above",
                  "m",
                  "other",
                  "2",
                  "39",
                  "3.0",
                  "16",
                  "0",
                  "80",
                  "0"
                ],
                [
                  "14",
                  "77040",
                  "R&D",
                  "region_2",
                  "Master's & above",
                  "m",
                  "sourcing",
                  "1",
                  "37",
                  "3.0",
                  "7",
                  "0",
                  "84",
                  "0"
                ],
                [
                  "15",
                  "43931",
                  "Operations",
                  "region_7",
                  "Bachelor's",
                  "m",
                  "other",
                  "1",
                  "37",
                  "1.0",
                  "10",
                  "0",
                  "60",
                  "0"
                ],
                [
                  "16",
                  "7152",
                  "Technology",
                  "region_2",
                  "Bachelor's",
                  "m",
                  "other",
                  "1",
                  "38",
                  "3.0",
                  "5",
                  "0",
                  "77",
                  "0"
                ],
                [
                  "17",
                  "9403",
                  "Sales & Marketing",
                  "region_31",
                  "Bachelor's",
                  "m",
                  "other",
                  "1",
                  "34",
                  "1.0",
                  "4",
                  "0",
                  "51",
                  "0"
                ],
                [
                  "18",
                  "17436",
                  "Sales & Marketing",
                  "region_31",
                  "Bachelor's",
                  "m",
                  "other",
                  "1",
                  "34",
                  "5.0",
                  "8",
                  "0",
                  "46",
                  "0"
                ],
                [
                  "19",
                  "54461",
                  "Operations",
                  "region_15",
                  "Bachelor's",
                  "m",
                  "other",
                  "1",
                  "37",
                  "3.0",
                  "9",
                  "0",
                  "59",
                  "0"
                ],
                [
                  "20",
                  "12067",
                  "Procurement",
                  "region_14",
                  "Bachelor's",
                  "m",
                  "other",
                  "1",
                  "35",
                  "3.0",
                  "7",
                  "0",
                  "75",
                  "0"
                ],
                [
                  "21",
                  "33332",
                  "Operations",
                  "region_15",
                  null,
                  "m",
                  "sourcing",
                  "1",
                  "41",
                  "4.0",
                  "11",
                  "0",
                  "57",
                  "0"
                ],
                [
                  "22",
                  "58789",
                  "Finance",
                  "region_11",
                  "Bachelor's",
                  "f",
                  "other",
                  "1",
                  "28",
                  "3.0",
                  "4",
                  "0",
                  "63",
                  "0"
                ],
                [
                  "23",
                  "71177",
                  "Procurement",
                  "region_5",
                  "Bachelor's",
                  "m",
                  "other",
                  "1",
                  "27",
                  null,
                  "1",
                  "0",
                  "70",
                  "0"
                ],
                [
                  "24",
                  "52057",
                  "Finance",
                  "region_22",
                  "Master's & above",
                  "m",
                  "sourcing",
                  "2",
                  "39",
                  "5.0",
                  "7",
                  "0",
                  "59",
                  "0"
                ],
                [
                  "25",
                  "26585",
                  "Technology",
                  "region_22",
                  "Bachelor's",
                  "m",
                  "other",
                  "1",
                  "27",
                  "5.0",
                  "3",
                  "0",
                  "83",
                  "0"
                ],
                [
                  "26",
                  "37749",
                  "Procurement",
                  "region_26",
                  "Bachelor's",
                  "m",
                  "other",
                  "1",
                  "31",
                  "5.0",
                  "4",
                  "0",
                  "68",
                  "0"
                ],
                [
                  "27",
                  "2370",
                  "Technology",
                  "region_26",
                  "Bachelor's",
                  "m",
                  "other",
                  "1",
                  "33",
                  "4.0",
                  "4",
                  "0",
                  "79",
                  "0"
                ],
                [
                  "28",
                  "8219",
                  "Analytics",
                  "region_5",
                  "Bachelor's",
                  "m",
                  "other",
                  "1",
                  "29",
                  "5.0",
                  "3",
                  "0",
                  "80",
                  "0"
                ],
                [
                  "29",
                  "74759",
                  "Sales & Marketing",
                  "region_4",
                  "Bachelor's",
                  "m",
                  "sourcing",
                  "1",
                  "26",
                  null,
                  "1",
                  "0",
                  "44",
                  "0"
                ],
                [
                  "30",
                  "27395",
                  "Procurement",
                  "region_15",
                  "Bachelor's",
                  "m",
                  "sourcing",
                  "1",
                  "37",
                  "5.0",
                  "10",
                  "0",
                  "72",
                  "0"
                ],
                [
                  "31",
                  "58536",
                  "Finance",
                  "region_31",
                  "Bachelor's",
                  "m",
                  "other",
                  "2",
                  "26",
                  "1.0",
                  "2",
                  "0",
                  "61",
                  "0"
                ],
                [
                  "32",
                  "35465",
                  "Sales & Marketing",
                  "region_7",
                  null,
                  "f",
                  "sourcing",
                  "1",
                  "24",
                  "1.0",
                  "2",
                  "0",
                  "48",
                  "0"
                ],
                [
                  "33",
                  "51756",
                  "Operations",
                  "region_2",
                  "Bachelor's",
                  "m",
                  "sourcing",
                  "2",
                  "57",
                  "4.0",
                  "6",
                  "0",
                  "58",
                  "0"
                ],
                [
                  "34",
                  "57011",
                  "Analytics",
                  "region_22",
                  "Bachelor's",
                  "m",
                  "other",
                  "2",
                  "27",
                  "5.0",
                  "3",
                  "0",
                  "87",
                  "0"
                ],
                [
                  "35",
                  "77064",
                  "Sales & Marketing",
                  "region_22",
                  "Bachelor's",
                  "m",
                  "other",
                  "1",
                  "40",
                  "2.0",
                  "4",
                  "0",
                  "47",
                  "0"
                ],
                [
                  "36",
                  "64062",
                  "Technology",
                  "region_28",
                  "Bachelor's",
                  "m",
                  "sourcing",
                  "1",
                  "33",
                  "4.0",
                  "4",
                  "0",
                  "75",
                  "0"
                ],
                [
                  "37",
                  "47123",
                  "Sales & Marketing",
                  "region_7",
                  "Bachelor's",
                  "f",
                  "sourcing",
                  "1",
                  "40",
                  "5.0",
                  "3",
                  "0",
                  "47",
                  "0"
                ],
                [
                  "38",
                  "56275",
                  "Sales & Marketing",
                  "region_1",
                  "Master's & above",
                  "m",
                  "other",
                  "1",
                  "42",
                  "5.0",
                  "5",
                  "0",
                  "51",
                  "0"
                ],
                [
                  "39",
                  "58304",
                  "Sales & Marketing",
                  "region_28",
                  "Bachelor's",
                  "m",
                  "sourcing",
                  "1",
                  "33",
                  "5.0",
                  "6",
                  "0",
                  "51",
                  "1"
                ],
                [
                  "40",
                  "25014",
                  "Technology",
                  "region_15",
                  "Bachelor's",
                  "m",
                  "other",
                  "1",
                  "34",
                  "3.0",
                  "10",
                  "0",
                  "80",
                  "0"
                ],
                [
                  "41",
                  "40097",
                  "Operations",
                  "region_2",
                  "Bachelor's",
                  "f",
                  "other",
                  "2",
                  "23",
                  "4.0",
                  "2",
                  "0",
                  "57",
                  "0"
                ],
                [
                  "42",
                  "23560",
                  "HR",
                  "region_2",
                  "Bachelor's",
                  "m",
                  "sourcing",
                  "1",
                  "59",
                  "4.0",
                  "26",
                  "0",
                  "52",
                  "0"
                ],
                [
                  "43",
                  "17423",
                  "Sales & Marketing",
                  "region_2",
                  null,
                  "m",
                  "other",
                  "3",
                  "24",
                  "2.0",
                  "2",
                  "0",
                  "48",
                  "0"
                ],
                [
                  "44",
                  "61758",
                  "Analytics",
                  "region_2",
                  "Bachelor's",
                  "m",
                  "other",
                  "1",
                  "44",
                  "5.0",
                  "12",
                  "0",
                  "88",
                  "0"
                ],
                [
                  "45",
                  "75009",
                  "Procurement",
                  "region_17",
                  "Bachelor's",
                  "f",
                  "sourcing",
                  "1",
                  "50",
                  "5.0",
                  "11",
                  "0",
                  "71",
                  "0"
                ],
                [
                  "46",
                  "17876",
                  "Procurement",
                  "region_13",
                  "Master's & above",
                  "f",
                  "other",
                  "1",
                  "37",
                  "4.0",
                  "4",
                  "0",
                  "71",
                  "0"
                ],
                [
                  "47",
                  "36924",
                  "Technology",
                  "region_16",
                  "Bachelor's",
                  "m",
                  "sourcing",
                  "1",
                  "40",
                  "3.0",
                  "11",
                  "0",
                  "80",
                  "0"
                ],
                [
                  "48",
                  "50408",
                  "Sales & Marketing",
                  "region_20",
                  "Bachelor's",
                  "m",
                  "sourcing",
                  "1",
                  "30",
                  "3.0",
                  "3",
                  "0",
                  "49",
                  "0"
                ],
                [
                  "49",
                  "18013",
                  "Procurement",
                  "region_2",
                  "Master's & above",
                  "f",
                  "sourcing",
                  "1",
                  "56",
                  "3.0",
                  "12",
                  "0",
                  "73",
                  "0"
                ]
              ],
              "shape": {
                "columns": 13,
                "rows": 54808
              }
            },
            "text/html": [
              "<div>\n",
              "<style scoped>\n",
              "    .dataframe tbody tr th:only-of-type {\n",
              "        vertical-align: middle;\n",
              "    }\n",
              "\n",
              "    .dataframe tbody tr th {\n",
              "        vertical-align: top;\n",
              "    }\n",
              "\n",
              "    .dataframe thead th {\n",
              "        text-align: right;\n",
              "    }\n",
              "</style>\n",
              "<table border=\"1\" class=\"dataframe\">\n",
              "  <thead>\n",
              "    <tr style=\"text-align: right;\">\n",
              "      <th></th>\n",
              "      <th>employee_id</th>\n",
              "      <th>department</th>\n",
              "      <th>region</th>\n",
              "      <th>education</th>\n",
              "      <th>gender</th>\n",
              "      <th>recruitment_channel</th>\n",
              "      <th>no_of_trainings</th>\n",
              "      <th>age</th>\n",
              "      <th>previous_year_rating</th>\n",
              "      <th>length_of_service</th>\n",
              "      <th>awards_won?</th>\n",
              "      <th>avg_training_score</th>\n",
              "      <th>is_promoted</th>\n",
              "    </tr>\n",
              "  </thead>\n",
              "  <tbody>\n",
              "    <tr>\n",
              "      <th>0</th>\n",
              "      <td>65438</td>\n",
              "      <td>Sales &amp; Marketing</td>\n",
              "      <td>region_7</td>\n",
              "      <td>Master's &amp; above</td>\n",
              "      <td>f</td>\n",
              "      <td>sourcing</td>\n",
              "      <td>1</td>\n",
              "      <td>35</td>\n",
              "      <td>5.0</td>\n",
              "      <td>8</td>\n",
              "      <td>0</td>\n",
              "      <td>49</td>\n",
              "      <td>0</td>\n",
              "    </tr>\n",
              "    <tr>\n",
              "      <th>1</th>\n",
              "      <td>65141</td>\n",
              "      <td>Operations</td>\n",
              "      <td>region_22</td>\n",
              "      <td>Bachelor's</td>\n",
              "      <td>m</td>\n",
              "      <td>other</td>\n",
              "      <td>1</td>\n",
              "      <td>30</td>\n",
              "      <td>5.0</td>\n",
              "      <td>4</td>\n",
              "      <td>0</td>\n",
              "      <td>60</td>\n",
              "      <td>0</td>\n",
              "    </tr>\n",
              "    <tr>\n",
              "      <th>2</th>\n",
              "      <td>7513</td>\n",
              "      <td>Sales &amp; Marketing</td>\n",
              "      <td>region_19</td>\n",
              "      <td>Bachelor's</td>\n",
              "      <td>m</td>\n",
              "      <td>sourcing</td>\n",
              "      <td>1</td>\n",
              "      <td>34</td>\n",
              "      <td>3.0</td>\n",
              "      <td>7</td>\n",
              "      <td>0</td>\n",
              "      <td>50</td>\n",
              "      <td>0</td>\n",
              "    </tr>\n",
              "    <tr>\n",
              "      <th>3</th>\n",
              "      <td>2542</td>\n",
              "      <td>Sales &amp; Marketing</td>\n",
              "      <td>region_23</td>\n",
              "      <td>Bachelor's</td>\n",
              "      <td>m</td>\n",
              "      <td>other</td>\n",
              "      <td>2</td>\n",
              "      <td>39</td>\n",
              "      <td>1.0</td>\n",
              "      <td>10</td>\n",
              "      <td>0</td>\n",
              "      <td>50</td>\n",
              "      <td>0</td>\n",
              "    </tr>\n",
              "    <tr>\n",
              "      <th>4</th>\n",
              "      <td>48945</td>\n",
              "      <td>Technology</td>\n",
              "      <td>region_26</td>\n",
              "      <td>Bachelor's</td>\n",
              "      <td>m</td>\n",
              "      <td>other</td>\n",
              "      <td>1</td>\n",
              "      <td>45</td>\n",
              "      <td>3.0</td>\n",
              "      <td>2</td>\n",
              "      <td>0</td>\n",
              "      <td>73</td>\n",
              "      <td>0</td>\n",
              "    </tr>\n",
              "    <tr>\n",
              "      <th>...</th>\n",
              "      <td>...</td>\n",
              "      <td>...</td>\n",
              "      <td>...</td>\n",
              "      <td>...</td>\n",
              "      <td>...</td>\n",
              "      <td>...</td>\n",
              "      <td>...</td>\n",
              "      <td>...</td>\n",
              "      <td>...</td>\n",
              "      <td>...</td>\n",
              "      <td>...</td>\n",
              "      <td>...</td>\n",
              "      <td>...</td>\n",
              "    </tr>\n",
              "    <tr>\n",
              "      <th>54803</th>\n",
              "      <td>3030</td>\n",
              "      <td>Technology</td>\n",
              "      <td>region_14</td>\n",
              "      <td>Bachelor's</td>\n",
              "      <td>m</td>\n",
              "      <td>sourcing</td>\n",
              "      <td>1</td>\n",
              "      <td>48</td>\n",
              "      <td>3.0</td>\n",
              "      <td>17</td>\n",
              "      <td>0</td>\n",
              "      <td>78</td>\n",
              "      <td>0</td>\n",
              "    </tr>\n",
              "    <tr>\n",
              "      <th>54804</th>\n",
              "      <td>74592</td>\n",
              "      <td>Operations</td>\n",
              "      <td>region_27</td>\n",
              "      <td>Master's &amp; above</td>\n",
              "      <td>f</td>\n",
              "      <td>other</td>\n",
              "      <td>1</td>\n",
              "      <td>37</td>\n",
              "      <td>2.0</td>\n",
              "      <td>6</td>\n",
              "      <td>0</td>\n",
              "      <td>56</td>\n",
              "      <td>0</td>\n",
              "    </tr>\n",
              "    <tr>\n",
              "      <th>54805</th>\n",
              "      <td>13918</td>\n",
              "      <td>Analytics</td>\n",
              "      <td>region_1</td>\n",
              "      <td>Bachelor's</td>\n",
              "      <td>m</td>\n",
              "      <td>other</td>\n",
              "      <td>1</td>\n",
              "      <td>27</td>\n",
              "      <td>5.0</td>\n",
              "      <td>3</td>\n",
              "      <td>0</td>\n",
              "      <td>79</td>\n",
              "      <td>0</td>\n",
              "    </tr>\n",
              "    <tr>\n",
              "      <th>54806</th>\n",
              "      <td>13614</td>\n",
              "      <td>Sales &amp; Marketing</td>\n",
              "      <td>region_9</td>\n",
              "      <td>NaN</td>\n",
              "      <td>m</td>\n",
              "      <td>sourcing</td>\n",
              "      <td>1</td>\n",
              "      <td>29</td>\n",
              "      <td>1.0</td>\n",
              "      <td>2</td>\n",
              "      <td>0</td>\n",
              "      <td>45</td>\n",
              "      <td>0</td>\n",
              "    </tr>\n",
              "    <tr>\n",
              "      <th>54807</th>\n",
              "      <td>51526</td>\n",
              "      <td>HR</td>\n",
              "      <td>region_22</td>\n",
              "      <td>Bachelor's</td>\n",
              "      <td>m</td>\n",
              "      <td>other</td>\n",
              "      <td>1</td>\n",
              "      <td>27</td>\n",
              "      <td>1.0</td>\n",
              "      <td>5</td>\n",
              "      <td>0</td>\n",
              "      <td>49</td>\n",
              "      <td>0</td>\n",
              "    </tr>\n",
              "  </tbody>\n",
              "</table>\n",
              "<p>54808 rows × 13 columns</p>\n",
              "</div>"
            ],
            "text/plain": [
              "       employee_id         department     region         education gender  \\\n",
              "0            65438  Sales & Marketing   region_7  Master's & above      f   \n",
              "1            65141         Operations  region_22        Bachelor's      m   \n",
              "2             7513  Sales & Marketing  region_19        Bachelor's      m   \n",
              "3             2542  Sales & Marketing  region_23        Bachelor's      m   \n",
              "4            48945         Technology  region_26        Bachelor's      m   \n",
              "...            ...                ...        ...               ...    ...   \n",
              "54803         3030         Technology  region_14        Bachelor's      m   \n",
              "54804        74592         Operations  region_27  Master's & above      f   \n",
              "54805        13918          Analytics   region_1        Bachelor's      m   \n",
              "54806        13614  Sales & Marketing   region_9               NaN      m   \n",
              "54807        51526                 HR  region_22        Bachelor's      m   \n",
              "\n",
              "      recruitment_channel  no_of_trainings  age  previous_year_rating  \\\n",
              "0                sourcing                1   35                   5.0   \n",
              "1                   other                1   30                   5.0   \n",
              "2                sourcing                1   34                   3.0   \n",
              "3                   other                2   39                   1.0   \n",
              "4                   other                1   45                   3.0   \n",
              "...                   ...              ...  ...                   ...   \n",
              "54803            sourcing                1   48                   3.0   \n",
              "54804               other                1   37                   2.0   \n",
              "54805               other                1   27                   5.0   \n",
              "54806            sourcing                1   29                   1.0   \n",
              "54807               other                1   27                   1.0   \n",
              "\n",
              "       length_of_service  awards_won?  avg_training_score  is_promoted  \n",
              "0                      8            0                  49            0  \n",
              "1                      4            0                  60            0  \n",
              "2                      7            0                  50            0  \n",
              "3                     10            0                  50            0  \n",
              "4                      2            0                  73            0  \n",
              "...                  ...          ...                 ...          ...  \n",
              "54803                 17            0                  78            0  \n",
              "54804                  6            0                  56            0  \n",
              "54805                  3            0                  79            0  \n",
              "54806                  2            0                  45            0  \n",
              "54807                  5            0                  49            0  \n",
              "\n",
              "[54808 rows x 13 columns]"
            ]
          },
          "execution_count": 4,
          "metadata": {},
          "output_type": "execute_result"
        }
      ],
      "source": [
        "# data path\n",
        "raw_data_path_1 = os.path.join(\n",
        "    ROOT,\n",
        "    'content',\n",
        "    'train.csv'\n",
        ")\n",
        "\n",
        "# read a csv file\n",
        "raw_dataset_1 = pd.read_csv(raw_data_path_1)\n",
        "\n",
        "# display dataset\n",
        "raw_dataset_1"
      ]
    },
    {
      "cell_type": "code",
      "execution_count": 5,
      "metadata": {
        "colab": {
          "base_uri": "https://localhost:8080/",
          "height": 496
        },
        "id": "xKqN1XYNymTF",
        "outputId": "451ca264-9540-4ada-eec4-b6b6e175c1d6"
      },
      "outputs": [
        {
          "data": {
            "application/vnd.microsoft.datawrangler.viewer.v0+json": {
              "columns": [
                {
                  "name": "index",
                  "rawType": "int64",
                  "type": "integer"
                },
                {
                  "name": "employee_id",
                  "rawType": "int64",
                  "type": "integer"
                },
                {
                  "name": "department",
                  "rawType": "object",
                  "type": "string"
                },
                {
                  "name": "region",
                  "rawType": "object",
                  "type": "string"
                },
                {
                  "name": "education",
                  "rawType": "object",
                  "type": "unknown"
                },
                {
                  "name": "gender",
                  "rawType": "object",
                  "type": "string"
                },
                {
                  "name": "recruitment_channel",
                  "rawType": "object",
                  "type": "string"
                },
                {
                  "name": "no_of_trainings",
                  "rawType": "int64",
                  "type": "integer"
                },
                {
                  "name": "age",
                  "rawType": "int64",
                  "type": "integer"
                },
                {
                  "name": "previous_year_rating",
                  "rawType": "float64",
                  "type": "float"
                },
                {
                  "name": "length_of_service",
                  "rawType": "int64",
                  "type": "integer"
                },
                {
                  "name": "awards_won?",
                  "rawType": "int64",
                  "type": "integer"
                },
                {
                  "name": "avg_training_score",
                  "rawType": "int64",
                  "type": "integer"
                }
              ],
              "conversionMethod": "pd.DataFrame",
              "ref": "55acfc2f-9748-4317-948f-aed6ab6b1287",
              "rows": [
                [
                  "0",
                  "8724",
                  "Technology",
                  "region_26",
                  "Bachelor's",
                  "m",
                  "sourcing",
                  "1",
                  "24",
                  null,
                  "1",
                  "0",
                  "77"
                ],
                [
                  "1",
                  "74430",
                  "HR",
                  "region_4",
                  "Bachelor's",
                  "f",
                  "other",
                  "1",
                  "31",
                  "3.0",
                  "5",
                  "0",
                  "51"
                ],
                [
                  "2",
                  "72255",
                  "Sales & Marketing",
                  "region_13",
                  "Bachelor's",
                  "m",
                  "other",
                  "1",
                  "31",
                  "1.0",
                  "4",
                  "0",
                  "47"
                ],
                [
                  "3",
                  "38562",
                  "Procurement",
                  "region_2",
                  "Bachelor's",
                  "f",
                  "other",
                  "3",
                  "31",
                  "2.0",
                  "9",
                  "0",
                  "65"
                ],
                [
                  "4",
                  "64486",
                  "Finance",
                  "region_29",
                  "Bachelor's",
                  "m",
                  "sourcing",
                  "1",
                  "30",
                  "4.0",
                  "7",
                  "0",
                  "61"
                ],
                [
                  "5",
                  "46232",
                  "Procurement",
                  "region_7",
                  "Bachelor's",
                  "m",
                  "sourcing",
                  "1",
                  "36",
                  "3.0",
                  "2",
                  "0",
                  "68"
                ],
                [
                  "6",
                  "54542",
                  "Finance",
                  "region_2",
                  "Bachelor's",
                  "m",
                  "other",
                  "1",
                  "33",
                  "5.0",
                  "3",
                  "0",
                  "57"
                ],
                [
                  "7",
                  "67269",
                  "Analytics",
                  "region_22",
                  "Bachelor's",
                  "m",
                  "sourcing",
                  "2",
                  "36",
                  "3.0",
                  "3",
                  "0",
                  "85"
                ],
                [
                  "8",
                  "66174",
                  "Technology",
                  "region_7",
                  "Master's & above",
                  "m",
                  "other",
                  "1",
                  "51",
                  "4.0",
                  "11",
                  "0",
                  "75"
                ],
                [
                  "9",
                  "76303",
                  "Technology",
                  "region_22",
                  "Bachelor's",
                  "m",
                  "sourcing",
                  "1",
                  "29",
                  "5.0",
                  "2",
                  "0",
                  "76"
                ],
                [
                  "10",
                  "60245",
                  "Sales & Marketing",
                  "region_16",
                  "Bachelor's",
                  "m",
                  "sourcing",
                  "2",
                  "40",
                  "5.0",
                  "12",
                  "0",
                  "50"
                ],
                [
                  "11",
                  "42639",
                  "Sales & Marketing",
                  "region_17",
                  "Master's & above",
                  "m",
                  "sourcing",
                  "1",
                  "40",
                  "3.0",
                  "10",
                  "0",
                  "46"
                ],
                [
                  "12",
                  "30963",
                  "Sales & Marketing",
                  "region_4",
                  "Master's & above",
                  "f",
                  "other",
                  "1",
                  "34",
                  "3.0",
                  "4",
                  "0",
                  "52"
                ],
                [
                  "13",
                  "54055",
                  "Analytics",
                  "region_24",
                  "Bachelor's",
                  "m",
                  "other",
                  "1",
                  "37",
                  "3.0",
                  "10",
                  "0",
                  "82"
                ],
                [
                  "14",
                  "42996",
                  "Operations",
                  "region_11",
                  "Bachelor's",
                  "m",
                  "sourcing",
                  "1",
                  "30",
                  "5.0",
                  "6",
                  "0",
                  "58"
                ],
                [
                  "15",
                  "12737",
                  "Sales & Marketing",
                  "region_7",
                  "Bachelor's",
                  "m",
                  "sourcing",
                  "1",
                  "31",
                  "4.0",
                  "4",
                  "0",
                  "47"
                ],
                [
                  "16",
                  "27561",
                  "Operations",
                  "region_27",
                  "Bachelor's",
                  "f",
                  "sourcing",
                  "1",
                  "26",
                  "5.0",
                  "3",
                  "0",
                  "56"
                ],
                [
                  "17",
                  "26622",
                  "Sales & Marketing",
                  "region_17",
                  "Bachelor's",
                  "m",
                  "sourcing",
                  "1",
                  "40",
                  "5.0",
                  "6",
                  "0",
                  "50"
                ],
                [
                  "18",
                  "31582",
                  "Procurement",
                  "region_7",
                  "Bachelor's",
                  "f",
                  "other",
                  "1",
                  "49",
                  "3.0",
                  "7",
                  "0",
                  "64"
                ],
                [
                  "19",
                  "29793",
                  "Procurement",
                  "region_27",
                  "Bachelor's",
                  "m",
                  "other",
                  "1",
                  "27",
                  "2.0",
                  "5",
                  "0",
                  "65"
                ],
                [
                  "20",
                  "72735",
                  "Sales & Marketing",
                  "region_9",
                  "Master's & above",
                  "m",
                  "sourcing",
                  "1",
                  "37",
                  "5.0",
                  "3",
                  "0",
                  "47"
                ],
                [
                  "21",
                  "5677",
                  "Technology",
                  "region_17",
                  "Bachelor's",
                  "m",
                  "sourcing",
                  "1",
                  "25",
                  null,
                  "1",
                  "0",
                  "80"
                ],
                [
                  "22",
                  "60889",
                  "Technology",
                  "region_29",
                  "Master's & above",
                  "m",
                  "sourcing",
                  "1",
                  "30",
                  "1.0",
                  "3",
                  "0",
                  "83"
                ],
                [
                  "23",
                  "51498",
                  "Procurement",
                  "region_4",
                  "Master's & above",
                  "m",
                  "other",
                  "1",
                  "41",
                  "3.0",
                  "4",
                  "0",
                  "76"
                ],
                [
                  "24",
                  "8566",
                  "Finance",
                  "region_20",
                  "Bachelor's",
                  "f",
                  "other",
                  "1",
                  "29",
                  "4.0",
                  "6",
                  "0",
                  "58"
                ],
                [
                  "25",
                  "53151",
                  "Operations",
                  "region_20",
                  "Bachelor's",
                  "m",
                  "other",
                  "1",
                  "33",
                  "3.0",
                  "7",
                  "1",
                  "62"
                ],
                [
                  "26",
                  "16203",
                  "Sales & Marketing",
                  "region_17",
                  "Master's & above",
                  "m",
                  "sourcing",
                  "1",
                  "34",
                  "4.0",
                  "6",
                  "0",
                  "50"
                ],
                [
                  "27",
                  "61083",
                  "Analytics",
                  "region_13",
                  "Bachelor's",
                  "m",
                  "sourcing",
                  "1",
                  "34",
                  "3.0",
                  "3",
                  "0",
                  "87"
                ],
                [
                  "28",
                  "74849",
                  "Operations",
                  "region_22",
                  "Bachelor's",
                  "m",
                  "other",
                  "1",
                  "52",
                  "1.0",
                  "10",
                  "0",
                  "61"
                ],
                [
                  "29",
                  "13259",
                  "Sales & Marketing",
                  "region_34",
                  "Bachelor's",
                  "m",
                  "sourcing",
                  "1",
                  "30",
                  "2.0",
                  "3",
                  "0",
                  "50"
                ],
                [
                  "30",
                  "72407",
                  "Analytics",
                  "region_2",
                  "Master's & above",
                  "m",
                  "sourcing",
                  "2",
                  "34",
                  "4.0",
                  "7",
                  "0",
                  "87"
                ],
                [
                  "31",
                  "65237",
                  "Sales & Marketing",
                  "region_2",
                  "Bachelor's",
                  "m",
                  "sourcing",
                  "2",
                  "43",
                  "1.0",
                  "14",
                  "0",
                  "52"
                ],
                [
                  "32",
                  "67672",
                  "Technology",
                  "region_17",
                  "Bachelor's",
                  "m",
                  "other",
                  "1",
                  "29",
                  null,
                  "1",
                  "0",
                  "85"
                ],
                [
                  "33",
                  "77460",
                  "Sales & Marketing",
                  "region_2",
                  "Bachelor's",
                  "f",
                  "sourcing",
                  "1",
                  "35",
                  "3.0",
                  "3",
                  "0",
                  "52"
                ],
                [
                  "34",
                  "67317",
                  "Technology",
                  "region_22",
                  "Master's & above",
                  "m",
                  "other",
                  "4",
                  "40",
                  "3.0",
                  "12",
                  "0",
                  "77"
                ],
                [
                  "35",
                  "68788",
                  "Technology",
                  "region_23",
                  "Bachelor's",
                  "m",
                  "sourcing",
                  "2",
                  "33",
                  "4.0",
                  "9",
                  "0",
                  "83"
                ],
                [
                  "36",
                  "36834",
                  "Sales & Marketing",
                  "region_8",
                  "Master's & above",
                  "m",
                  "other",
                  "1",
                  "30",
                  "3.0",
                  "2",
                  "0",
                  "55"
                ],
                [
                  "37",
                  "64281",
                  "Sales & Marketing",
                  "region_14",
                  "Bachelor's",
                  "f",
                  "sourcing",
                  "2",
                  "42",
                  "1.0",
                  "3",
                  "0",
                  "46"
                ],
                [
                  "38",
                  "1822",
                  "Sales & Marketing",
                  "region_22",
                  "Bachelor's",
                  "m",
                  "sourcing",
                  "3",
                  "29",
                  "1.0",
                  "3",
                  "0",
                  "51"
                ],
                [
                  "39",
                  "55325",
                  "Analytics",
                  "region_22",
                  "Bachelor's",
                  "m",
                  "other",
                  "1",
                  "25",
                  null,
                  "1",
                  "0",
                  "88"
                ],
                [
                  "40",
                  "41432",
                  "Analytics",
                  "region_26",
                  "Bachelor's",
                  "m",
                  "sourcing",
                  "1",
                  "26",
                  "5.0",
                  "4",
                  "0",
                  "90"
                ],
                [
                  "41",
                  "52061",
                  "Sales & Marketing",
                  "region_31",
                  "Bachelor's",
                  "m",
                  "other",
                  "1",
                  "27",
                  "2.0",
                  "3",
                  "0",
                  "52"
                ],
                [
                  "42",
                  "39973",
                  "Operations",
                  "region_13",
                  "Bachelor's",
                  "m",
                  "other",
                  "1",
                  "34",
                  "5.0",
                  "5",
                  "0",
                  "66"
                ],
                [
                  "43",
                  "42524",
                  "Sales & Marketing",
                  "region_31",
                  "Bachelor's",
                  "m",
                  "sourcing",
                  "1",
                  "26",
                  "4.0",
                  "5",
                  "0",
                  "45"
                ],
                [
                  "44",
                  "7935",
                  "Technology",
                  "region_2",
                  "Bachelor's",
                  "f",
                  "other",
                  "1",
                  "52",
                  "5.0",
                  "18",
                  "0",
                  "80"
                ],
                [
                  "45",
                  "49940",
                  "Sales & Marketing",
                  "region_7",
                  "Bachelor's",
                  "m",
                  "other",
                  "1",
                  "26",
                  "5.0",
                  "2",
                  "0",
                  "54"
                ],
                [
                  "46",
                  "10059",
                  "Analytics",
                  "region_34",
                  "Bachelor's",
                  "m",
                  "sourcing",
                  "3",
                  "27",
                  "3.0",
                  "2",
                  "0",
                  "83"
                ],
                [
                  "47",
                  "44159",
                  "Analytics",
                  "region_22",
                  "Master's & above",
                  "m",
                  "other",
                  "1",
                  "31",
                  null,
                  "1",
                  "0",
                  "84"
                ],
                [
                  "48",
                  "76691",
                  "Operations",
                  "region_23",
                  "Bachelor's",
                  "m",
                  "other",
                  "1",
                  "33",
                  "4.0",
                  "8",
                  "0",
                  "59"
                ],
                [
                  "49",
                  "3720",
                  "Sales & Marketing",
                  "region_2",
                  null,
                  "m",
                  "sourcing",
                  "1",
                  "36",
                  "5.0",
                  "4",
                  "0",
                  "49"
                ]
              ],
              "shape": {
                "columns": 12,
                "rows": 23490
              }
            },
            "text/html": [
              "<div>\n",
              "<style scoped>\n",
              "    .dataframe tbody tr th:only-of-type {\n",
              "        vertical-align: middle;\n",
              "    }\n",
              "\n",
              "    .dataframe tbody tr th {\n",
              "        vertical-align: top;\n",
              "    }\n",
              "\n",
              "    .dataframe thead th {\n",
              "        text-align: right;\n",
              "    }\n",
              "</style>\n",
              "<table border=\"1\" class=\"dataframe\">\n",
              "  <thead>\n",
              "    <tr style=\"text-align: right;\">\n",
              "      <th></th>\n",
              "      <th>employee_id</th>\n",
              "      <th>department</th>\n",
              "      <th>region</th>\n",
              "      <th>education</th>\n",
              "      <th>gender</th>\n",
              "      <th>recruitment_channel</th>\n",
              "      <th>no_of_trainings</th>\n",
              "      <th>age</th>\n",
              "      <th>previous_year_rating</th>\n",
              "      <th>length_of_service</th>\n",
              "      <th>awards_won?</th>\n",
              "      <th>avg_training_score</th>\n",
              "    </tr>\n",
              "  </thead>\n",
              "  <tbody>\n",
              "    <tr>\n",
              "      <th>0</th>\n",
              "      <td>8724</td>\n",
              "      <td>Technology</td>\n",
              "      <td>region_26</td>\n",
              "      <td>Bachelor's</td>\n",
              "      <td>m</td>\n",
              "      <td>sourcing</td>\n",
              "      <td>1</td>\n",
              "      <td>24</td>\n",
              "      <td>NaN</td>\n",
              "      <td>1</td>\n",
              "      <td>0</td>\n",
              "      <td>77</td>\n",
              "    </tr>\n",
              "    <tr>\n",
              "      <th>1</th>\n",
              "      <td>74430</td>\n",
              "      <td>HR</td>\n",
              "      <td>region_4</td>\n",
              "      <td>Bachelor's</td>\n",
              "      <td>f</td>\n",
              "      <td>other</td>\n",
              "      <td>1</td>\n",
              "      <td>31</td>\n",
              "      <td>3.0</td>\n",
              "      <td>5</td>\n",
              "      <td>0</td>\n",
              "      <td>51</td>\n",
              "    </tr>\n",
              "    <tr>\n",
              "      <th>2</th>\n",
              "      <td>72255</td>\n",
              "      <td>Sales &amp; Marketing</td>\n",
              "      <td>region_13</td>\n",
              "      <td>Bachelor's</td>\n",
              "      <td>m</td>\n",
              "      <td>other</td>\n",
              "      <td>1</td>\n",
              "      <td>31</td>\n",
              "      <td>1.0</td>\n",
              "      <td>4</td>\n",
              "      <td>0</td>\n",
              "      <td>47</td>\n",
              "    </tr>\n",
              "    <tr>\n",
              "      <th>3</th>\n",
              "      <td>38562</td>\n",
              "      <td>Procurement</td>\n",
              "      <td>region_2</td>\n",
              "      <td>Bachelor's</td>\n",
              "      <td>f</td>\n",
              "      <td>other</td>\n",
              "      <td>3</td>\n",
              "      <td>31</td>\n",
              "      <td>2.0</td>\n",
              "      <td>9</td>\n",
              "      <td>0</td>\n",
              "      <td>65</td>\n",
              "    </tr>\n",
              "    <tr>\n",
              "      <th>4</th>\n",
              "      <td>64486</td>\n",
              "      <td>Finance</td>\n",
              "      <td>region_29</td>\n",
              "      <td>Bachelor's</td>\n",
              "      <td>m</td>\n",
              "      <td>sourcing</td>\n",
              "      <td>1</td>\n",
              "      <td>30</td>\n",
              "      <td>4.0</td>\n",
              "      <td>7</td>\n",
              "      <td>0</td>\n",
              "      <td>61</td>\n",
              "    </tr>\n",
              "    <tr>\n",
              "      <th>...</th>\n",
              "      <td>...</td>\n",
              "      <td>...</td>\n",
              "      <td>...</td>\n",
              "      <td>...</td>\n",
              "      <td>...</td>\n",
              "      <td>...</td>\n",
              "      <td>...</td>\n",
              "      <td>...</td>\n",
              "      <td>...</td>\n",
              "      <td>...</td>\n",
              "      <td>...</td>\n",
              "      <td>...</td>\n",
              "    </tr>\n",
              "    <tr>\n",
              "      <th>23485</th>\n",
              "      <td>53478</td>\n",
              "      <td>Legal</td>\n",
              "      <td>region_2</td>\n",
              "      <td>Below Secondary</td>\n",
              "      <td>m</td>\n",
              "      <td>sourcing</td>\n",
              "      <td>1</td>\n",
              "      <td>24</td>\n",
              "      <td>3.0</td>\n",
              "      <td>1</td>\n",
              "      <td>0</td>\n",
              "      <td>61</td>\n",
              "    </tr>\n",
              "    <tr>\n",
              "      <th>23486</th>\n",
              "      <td>25600</td>\n",
              "      <td>Technology</td>\n",
              "      <td>region_25</td>\n",
              "      <td>Bachelor's</td>\n",
              "      <td>m</td>\n",
              "      <td>sourcing</td>\n",
              "      <td>1</td>\n",
              "      <td>31</td>\n",
              "      <td>3.0</td>\n",
              "      <td>7</td>\n",
              "      <td>0</td>\n",
              "      <td>74</td>\n",
              "    </tr>\n",
              "    <tr>\n",
              "      <th>23487</th>\n",
              "      <td>45409</td>\n",
              "      <td>HR</td>\n",
              "      <td>region_16</td>\n",
              "      <td>Bachelor's</td>\n",
              "      <td>f</td>\n",
              "      <td>sourcing</td>\n",
              "      <td>1</td>\n",
              "      <td>26</td>\n",
              "      <td>4.0</td>\n",
              "      <td>4</td>\n",
              "      <td>0</td>\n",
              "      <td>50</td>\n",
              "    </tr>\n",
              "    <tr>\n",
              "      <th>23488</th>\n",
              "      <td>1186</td>\n",
              "      <td>Procurement</td>\n",
              "      <td>region_31</td>\n",
              "      <td>Bachelor's</td>\n",
              "      <td>m</td>\n",
              "      <td>sourcing</td>\n",
              "      <td>3</td>\n",
              "      <td>27</td>\n",
              "      <td>NaN</td>\n",
              "      <td>1</td>\n",
              "      <td>0</td>\n",
              "      <td>70</td>\n",
              "    </tr>\n",
              "    <tr>\n",
              "      <th>23489</th>\n",
              "      <td>5973</td>\n",
              "      <td>Technology</td>\n",
              "      <td>region_17</td>\n",
              "      <td>Master's &amp; above</td>\n",
              "      <td>m</td>\n",
              "      <td>other</td>\n",
              "      <td>3</td>\n",
              "      <td>40</td>\n",
              "      <td>5.0</td>\n",
              "      <td>5</td>\n",
              "      <td>0</td>\n",
              "      <td>89</td>\n",
              "    </tr>\n",
              "  </tbody>\n",
              "</table>\n",
              "<p>23490 rows × 12 columns</p>\n",
              "</div>"
            ],
            "text/plain": [
              "       employee_id         department     region         education gender  \\\n",
              "0             8724         Technology  region_26        Bachelor's      m   \n",
              "1            74430                 HR   region_4        Bachelor's      f   \n",
              "2            72255  Sales & Marketing  region_13        Bachelor's      m   \n",
              "3            38562        Procurement   region_2        Bachelor's      f   \n",
              "4            64486            Finance  region_29        Bachelor's      m   \n",
              "...            ...                ...        ...               ...    ...   \n",
              "23485        53478              Legal   region_2   Below Secondary      m   \n",
              "23486        25600         Technology  region_25        Bachelor's      m   \n",
              "23487        45409                 HR  region_16        Bachelor's      f   \n",
              "23488         1186        Procurement  region_31        Bachelor's      m   \n",
              "23489         5973         Technology  region_17  Master's & above      m   \n",
              "\n",
              "      recruitment_channel  no_of_trainings  age  previous_year_rating  \\\n",
              "0                sourcing                1   24                   NaN   \n",
              "1                   other                1   31                   3.0   \n",
              "2                   other                1   31                   1.0   \n",
              "3                   other                3   31                   2.0   \n",
              "4                sourcing                1   30                   4.0   \n",
              "...                   ...              ...  ...                   ...   \n",
              "23485            sourcing                1   24                   3.0   \n",
              "23486            sourcing                1   31                   3.0   \n",
              "23487            sourcing                1   26                   4.0   \n",
              "23488            sourcing                3   27                   NaN   \n",
              "23489               other                3   40                   5.0   \n",
              "\n",
              "       length_of_service  awards_won?  avg_training_score  \n",
              "0                      1            0                  77  \n",
              "1                      5            0                  51  \n",
              "2                      4            0                  47  \n",
              "3                      9            0                  65  \n",
              "4                      7            0                  61  \n",
              "...                  ...          ...                 ...  \n",
              "23485                  1            0                  61  \n",
              "23486                  7            0                  74  \n",
              "23487                  4            0                  50  \n",
              "23488                  1            0                  70  \n",
              "23489                  5            0                  89  \n",
              "\n",
              "[23490 rows x 12 columns]"
            ]
          },
          "execution_count": 5,
          "metadata": {},
          "output_type": "execute_result"
        }
      ],
      "source": [
        "# data path\n",
        "raw_data_path_2 = os.path.join(\n",
        "    ROOT,\n",
        "    'content',\n",
        "    'test.csv'\n",
        ")\n",
        "\n",
        "# read a csv file\n",
        "raw_dataset_2 = pd.read_csv(raw_data_path_2)\n",
        "\n",
        "# display dataset\n",
        "raw_dataset_2"
      ]
    },
    {
      "cell_type": "markdown",
      "metadata": {
        "id": "G_Q2l6rRBQL2"
      },
      "source": [
        "## Section 4: Pre-Processing"
      ]
    },
    {
      "cell_type": "markdown",
      "metadata": {
        "id": "RvitwfUqyzUF"
      },
      "source": [
        "### 4.1 Training Dataset"
      ]
    },
    {
      "cell_type": "code",
      "execution_count": 6,
      "metadata": {
        "colab": {
          "base_uri": "https://localhost:8080/"
        },
        "id": "yB5AtjwbCQon",
        "outputId": "972721d0-4f96-4e85-ca31-957d0c289edd"
      },
      "outputs": [
        {
          "name": "stdout",
          "output_type": "stream",
          "text": [
            "<class 'pandas.core.frame.DataFrame'>\n",
            "RangeIndex: 54808 entries, 0 to 54807\n",
            "Data columns (total 13 columns):\n",
            " #   Column                Non-Null Count  Dtype  \n",
            "---  ------                --------------  -----  \n",
            " 0   employee_id           54808 non-null  int64  \n",
            " 1   department            54808 non-null  object \n",
            " 2   region                54808 non-null  object \n",
            " 3   education             52399 non-null  object \n",
            " 4   gender                54808 non-null  object \n",
            " 5   recruitment_channel   54808 non-null  object \n",
            " 6   no_of_trainings       54808 non-null  int64  \n",
            " 7   age                   54808 non-null  int64  \n",
            " 8   previous_year_rating  50684 non-null  float64\n",
            " 9   length_of_service     54808 non-null  int64  \n",
            " 10  awards_won?           54808 non-null  int64  \n",
            " 11  avg_training_score    54808 non-null  int64  \n",
            " 12  is_promoted           54808 non-null  int64  \n",
            "dtypes: float64(1), int64(7), object(5)\n",
            "memory usage: 5.4+ MB\n"
          ]
        }
      ],
      "source": [
        "# dataset information\n",
        "raw_dataset_1.info()"
      ]
    },
    {
      "cell_type": "code",
      "execution_count": 7,
      "metadata": {
        "colab": {
          "base_uri": "https://localhost:8080/"
        },
        "id": "7n6bqwlcuJlZ",
        "outputId": "03c505c3-027d-44d8-d608-73c46d516d6f"
      },
      "outputs": [
        {
          "name": "stdout",
          "output_type": "stream",
          "text": [
            "The total number of data in the dataset is: 54808\n",
            "The total number of data after clean n/a in the dataset is: 48660\n",
            "The total number of data after clean duplicates in the dataset is: 48660\n",
            "The total number of data in the final dataset is: 48660\n"
          ]
        }
      ],
      "source": [
        "print(f\"The total number of data in the dataset is: {raw_dataset_1.shape[0]}\")\n",
        "\n",
        "new_dataset_11 = raw_dataset_1.dropna().copy()\n",
        "print(f\"The total number of data after clean n/a in the dataset is: {new_dataset_11.shape[0]}\")\n",
        "\n",
        "new_dataset_12 = new_dataset_11.drop_duplicates().copy()\n",
        "print(f\"The total number of data after clean duplicates in the dataset is: {new_dataset_12.shape[0]}\")\n",
        "\n",
        "dataset_1 = new_dataset_12.copy()\n",
        "print(f\"The total number of data in the final dataset is: {dataset_1.shape[0]}\")"
      ]
    },
    {
      "cell_type": "code",
      "execution_count": 8,
      "metadata": {
        "colab": {
          "base_uri": "https://localhost:8080/",
          "height": 530
        },
        "id": "jG5yy1ULxoyf",
        "outputId": "9de0c9c1-3973-4c4d-fb8b-8557f1800611"
      },
      "outputs": [
        {
          "data": {
            "application/vnd.microsoft.datawrangler.viewer.v0+json": {
              "columns": [
                {
                  "name": "index",
                  "rawType": "int64",
                  "type": "integer"
                },
                {
                  "name": "employee_id",
                  "rawType": "int64",
                  "type": "integer"
                },
                {
                  "name": "department",
                  "rawType": "object",
                  "type": "string"
                },
                {
                  "name": "region",
                  "rawType": "object",
                  "type": "string"
                },
                {
                  "name": "education",
                  "rawType": "object",
                  "type": "string"
                },
                {
                  "name": "gender",
                  "rawType": "object",
                  "type": "string"
                },
                {
                  "name": "recruitment_channel",
                  "rawType": "object",
                  "type": "string"
                },
                {
                  "name": "no_of_trainings",
                  "rawType": "int64",
                  "type": "integer"
                },
                {
                  "name": "age",
                  "rawType": "int64",
                  "type": "integer"
                },
                {
                  "name": "previous_year_rating",
                  "rawType": "float64",
                  "type": "float"
                },
                {
                  "name": "length_of_service",
                  "rawType": "int64",
                  "type": "integer"
                },
                {
                  "name": "awards_won?",
                  "rawType": "int64",
                  "type": "integer"
                },
                {
                  "name": "avg_training_score",
                  "rawType": "int64",
                  "type": "integer"
                },
                {
                  "name": "is_promoted",
                  "rawType": "int64",
                  "type": "integer"
                }
              ],
              "conversionMethod": "pd.DataFrame",
              "ref": "d231afbb-f656-4344-a636-0f866af8110e",
              "rows": [
                [
                  "0",
                  "65438",
                  "Sales & Marketing",
                  "region_7",
                  "Master's & above",
                  "f",
                  "sourcing",
                  "1",
                  "35",
                  "5.0",
                  "8",
                  "0",
                  "49",
                  "0"
                ],
                [
                  "1",
                  "65141",
                  "Operations",
                  "region_22",
                  "Bachelor's",
                  "m",
                  "other",
                  "1",
                  "30",
                  "5.0",
                  "4",
                  "0",
                  "60",
                  "0"
                ],
                [
                  "2",
                  "7513",
                  "Sales & Marketing",
                  "region_19",
                  "Bachelor's",
                  "m",
                  "sourcing",
                  "1",
                  "34",
                  "3.0",
                  "7",
                  "0",
                  "50",
                  "0"
                ],
                [
                  "3",
                  "2542",
                  "Sales & Marketing",
                  "region_23",
                  "Bachelor's",
                  "m",
                  "other",
                  "2",
                  "39",
                  "1.0",
                  "10",
                  "0",
                  "50",
                  "0"
                ],
                [
                  "4",
                  "48945",
                  "Technology",
                  "region_26",
                  "Bachelor's",
                  "m",
                  "other",
                  "1",
                  "45",
                  "3.0",
                  "2",
                  "0",
                  "73",
                  "0"
                ],
                [
                  "5",
                  "58896",
                  "Analytics",
                  "region_2",
                  "Bachelor's",
                  "m",
                  "sourcing",
                  "2",
                  "31",
                  "3.0",
                  "7",
                  "0",
                  "85",
                  "0"
                ],
                [
                  "6",
                  "20379",
                  "Operations",
                  "region_20",
                  "Bachelor's",
                  "f",
                  "other",
                  "1",
                  "31",
                  "3.0",
                  "5",
                  "0",
                  "59",
                  "0"
                ],
                [
                  "7",
                  "16290",
                  "Operations",
                  "region_34",
                  "Master's & above",
                  "m",
                  "sourcing",
                  "1",
                  "33",
                  "3.0",
                  "6",
                  "0",
                  "63",
                  "0"
                ],
                [
                  "8",
                  "73202",
                  "Analytics",
                  "region_20",
                  "Bachelor's",
                  "m",
                  "other",
                  "1",
                  "28",
                  "4.0",
                  "5",
                  "0",
                  "83",
                  "0"
                ],
                [
                  "9",
                  "28911",
                  "Sales & Marketing",
                  "region_1",
                  "Master's & above",
                  "m",
                  "sourcing",
                  "1",
                  "32",
                  "5.0",
                  "5",
                  "0",
                  "54",
                  "0"
                ],
                [
                  "11",
                  "49017",
                  "Sales & Marketing",
                  "region_7",
                  "Bachelor's",
                  "f",
                  "sourcing",
                  "1",
                  "35",
                  "5.0",
                  "3",
                  "0",
                  "50",
                  "1"
                ],
                [
                  "12",
                  "60051",
                  "Sales & Marketing",
                  "region_4",
                  "Bachelor's",
                  "m",
                  "sourcing",
                  "1",
                  "49",
                  "5.0",
                  "5",
                  "0",
                  "49",
                  "0"
                ],
                [
                  "13",
                  "38401",
                  "Technology",
                  "region_29",
                  "Master's & above",
                  "m",
                  "other",
                  "2",
                  "39",
                  "3.0",
                  "16",
                  "0",
                  "80",
                  "0"
                ],
                [
                  "14",
                  "77040",
                  "R&D",
                  "region_2",
                  "Master's & above",
                  "m",
                  "sourcing",
                  "1",
                  "37",
                  "3.0",
                  "7",
                  "0",
                  "84",
                  "0"
                ],
                [
                  "15",
                  "43931",
                  "Operations",
                  "region_7",
                  "Bachelor's",
                  "m",
                  "other",
                  "1",
                  "37",
                  "1.0",
                  "10",
                  "0",
                  "60",
                  "0"
                ],
                [
                  "16",
                  "7152",
                  "Technology",
                  "region_2",
                  "Bachelor's",
                  "m",
                  "other",
                  "1",
                  "38",
                  "3.0",
                  "5",
                  "0",
                  "77",
                  "0"
                ],
                [
                  "17",
                  "9403",
                  "Sales & Marketing",
                  "region_31",
                  "Bachelor's",
                  "m",
                  "other",
                  "1",
                  "34",
                  "1.0",
                  "4",
                  "0",
                  "51",
                  "0"
                ],
                [
                  "18",
                  "17436",
                  "Sales & Marketing",
                  "region_31",
                  "Bachelor's",
                  "m",
                  "other",
                  "1",
                  "34",
                  "5.0",
                  "8",
                  "0",
                  "46",
                  "0"
                ],
                [
                  "19",
                  "54461",
                  "Operations",
                  "region_15",
                  "Bachelor's",
                  "m",
                  "other",
                  "1",
                  "37",
                  "3.0",
                  "9",
                  "0",
                  "59",
                  "0"
                ],
                [
                  "20",
                  "12067",
                  "Procurement",
                  "region_14",
                  "Bachelor's",
                  "m",
                  "other",
                  "1",
                  "35",
                  "3.0",
                  "7",
                  "0",
                  "75",
                  "0"
                ],
                [
                  "22",
                  "58789",
                  "Finance",
                  "region_11",
                  "Bachelor's",
                  "f",
                  "other",
                  "1",
                  "28",
                  "3.0",
                  "4",
                  "0",
                  "63",
                  "0"
                ],
                [
                  "24",
                  "52057",
                  "Finance",
                  "region_22",
                  "Master's & above",
                  "m",
                  "sourcing",
                  "2",
                  "39",
                  "5.0",
                  "7",
                  "0",
                  "59",
                  "0"
                ],
                [
                  "25",
                  "26585",
                  "Technology",
                  "region_22",
                  "Bachelor's",
                  "m",
                  "other",
                  "1",
                  "27",
                  "5.0",
                  "3",
                  "0",
                  "83",
                  "0"
                ],
                [
                  "26",
                  "37749",
                  "Procurement",
                  "region_26",
                  "Bachelor's",
                  "m",
                  "other",
                  "1",
                  "31",
                  "5.0",
                  "4",
                  "0",
                  "68",
                  "0"
                ],
                [
                  "27",
                  "2370",
                  "Technology",
                  "region_26",
                  "Bachelor's",
                  "m",
                  "other",
                  "1",
                  "33",
                  "4.0",
                  "4",
                  "0",
                  "79",
                  "0"
                ],
                [
                  "28",
                  "8219",
                  "Analytics",
                  "region_5",
                  "Bachelor's",
                  "m",
                  "other",
                  "1",
                  "29",
                  "5.0",
                  "3",
                  "0",
                  "80",
                  "0"
                ],
                [
                  "30",
                  "27395",
                  "Procurement",
                  "region_15",
                  "Bachelor's",
                  "m",
                  "sourcing",
                  "1",
                  "37",
                  "5.0",
                  "10",
                  "0",
                  "72",
                  "0"
                ],
                [
                  "31",
                  "58536",
                  "Finance",
                  "region_31",
                  "Bachelor's",
                  "m",
                  "other",
                  "2",
                  "26",
                  "1.0",
                  "2",
                  "0",
                  "61",
                  "0"
                ],
                [
                  "33",
                  "51756",
                  "Operations",
                  "region_2",
                  "Bachelor's",
                  "m",
                  "sourcing",
                  "2",
                  "57",
                  "4.0",
                  "6",
                  "0",
                  "58",
                  "0"
                ],
                [
                  "34",
                  "57011",
                  "Analytics",
                  "region_22",
                  "Bachelor's",
                  "m",
                  "other",
                  "2",
                  "27",
                  "5.0",
                  "3",
                  "0",
                  "87",
                  "0"
                ],
                [
                  "35",
                  "77064",
                  "Sales & Marketing",
                  "region_22",
                  "Bachelor's",
                  "m",
                  "other",
                  "1",
                  "40",
                  "2.0",
                  "4",
                  "0",
                  "47",
                  "0"
                ],
                [
                  "36",
                  "64062",
                  "Technology",
                  "region_28",
                  "Bachelor's",
                  "m",
                  "sourcing",
                  "1",
                  "33",
                  "4.0",
                  "4",
                  "0",
                  "75",
                  "0"
                ],
                [
                  "37",
                  "47123",
                  "Sales & Marketing",
                  "region_7",
                  "Bachelor's",
                  "f",
                  "sourcing",
                  "1",
                  "40",
                  "5.0",
                  "3",
                  "0",
                  "47",
                  "0"
                ],
                [
                  "38",
                  "56275",
                  "Sales & Marketing",
                  "region_1",
                  "Master's & above",
                  "m",
                  "other",
                  "1",
                  "42",
                  "5.0",
                  "5",
                  "0",
                  "51",
                  "0"
                ],
                [
                  "39",
                  "58304",
                  "Sales & Marketing",
                  "region_28",
                  "Bachelor's",
                  "m",
                  "sourcing",
                  "1",
                  "33",
                  "5.0",
                  "6",
                  "0",
                  "51",
                  "1"
                ],
                [
                  "40",
                  "25014",
                  "Technology",
                  "region_15",
                  "Bachelor's",
                  "m",
                  "other",
                  "1",
                  "34",
                  "3.0",
                  "10",
                  "0",
                  "80",
                  "0"
                ],
                [
                  "41",
                  "40097",
                  "Operations",
                  "region_2",
                  "Bachelor's",
                  "f",
                  "other",
                  "2",
                  "23",
                  "4.0",
                  "2",
                  "0",
                  "57",
                  "0"
                ],
                [
                  "42",
                  "23560",
                  "HR",
                  "region_2",
                  "Bachelor's",
                  "m",
                  "sourcing",
                  "1",
                  "59",
                  "4.0",
                  "26",
                  "0",
                  "52",
                  "0"
                ],
                [
                  "44",
                  "61758",
                  "Analytics",
                  "region_2",
                  "Bachelor's",
                  "m",
                  "other",
                  "1",
                  "44",
                  "5.0",
                  "12",
                  "0",
                  "88",
                  "0"
                ],
                [
                  "45",
                  "75009",
                  "Procurement",
                  "region_17",
                  "Bachelor's",
                  "f",
                  "sourcing",
                  "1",
                  "50",
                  "5.0",
                  "11",
                  "0",
                  "71",
                  "0"
                ],
                [
                  "46",
                  "17876",
                  "Procurement",
                  "region_13",
                  "Master's & above",
                  "f",
                  "other",
                  "1",
                  "37",
                  "4.0",
                  "4",
                  "0",
                  "71",
                  "0"
                ],
                [
                  "47",
                  "36924",
                  "Technology",
                  "region_16",
                  "Bachelor's",
                  "m",
                  "sourcing",
                  "1",
                  "40",
                  "3.0",
                  "11",
                  "0",
                  "80",
                  "0"
                ],
                [
                  "48",
                  "50408",
                  "Sales & Marketing",
                  "region_20",
                  "Bachelor's",
                  "m",
                  "sourcing",
                  "1",
                  "30",
                  "3.0",
                  "3",
                  "0",
                  "49",
                  "0"
                ],
                [
                  "49",
                  "18013",
                  "Procurement",
                  "region_2",
                  "Master's & above",
                  "f",
                  "sourcing",
                  "1",
                  "56",
                  "3.0",
                  "12",
                  "0",
                  "73",
                  "0"
                ],
                [
                  "50",
                  "24104",
                  "Finance",
                  "region_2",
                  "Bachelor's",
                  "m",
                  "sourcing",
                  "1",
                  "20",
                  "4.0",
                  "2",
                  "0",
                  "60",
                  "0"
                ],
                [
                  "51",
                  "32083",
                  "Sales & Marketing",
                  "region_25",
                  "Bachelor's",
                  "f",
                  "sourcing",
                  "1",
                  "31",
                  "3.0",
                  "8",
                  "0",
                  "48",
                  "0"
                ],
                [
                  "52",
                  "38330",
                  "Procurement",
                  "region_15",
                  "Bachelor's",
                  "m",
                  "sourcing",
                  "1",
                  "40",
                  "3.0",
                  "12",
                  "0",
                  "65",
                  "0"
                ],
                [
                  "53",
                  "33690",
                  "HR",
                  "region_22",
                  "Bachelor's",
                  "m",
                  "other",
                  "1",
                  "30",
                  "1.0",
                  "6",
                  "0",
                  "50",
                  "0"
                ],
                [
                  "54",
                  "73161",
                  "Operations",
                  "region_22",
                  "Bachelor's",
                  "m",
                  "other",
                  "1",
                  "39",
                  "3.0",
                  "5",
                  "0",
                  "62",
                  "0"
                ],
                [
                  "55",
                  "13596",
                  "Analytics",
                  "region_31",
                  "Bachelor's",
                  "m",
                  "other",
                  "2",
                  "26",
                  "2.0",
                  "2",
                  "0",
                  "85",
                  "0"
                ]
              ],
              "shape": {
                "columns": 13,
                "rows": 48660
              }
            },
            "text/html": [
              "<div>\n",
              "<style scoped>\n",
              "    .dataframe tbody tr th:only-of-type {\n",
              "        vertical-align: middle;\n",
              "    }\n",
              "\n",
              "    .dataframe tbody tr th {\n",
              "        vertical-align: top;\n",
              "    }\n",
              "\n",
              "    .dataframe thead th {\n",
              "        text-align: right;\n",
              "    }\n",
              "</style>\n",
              "<table border=\"1\" class=\"dataframe\">\n",
              "  <thead>\n",
              "    <tr style=\"text-align: right;\">\n",
              "      <th></th>\n",
              "      <th>employee_id</th>\n",
              "      <th>department</th>\n",
              "      <th>region</th>\n",
              "      <th>education</th>\n",
              "      <th>gender</th>\n",
              "      <th>recruitment_channel</th>\n",
              "      <th>no_of_trainings</th>\n",
              "      <th>age</th>\n",
              "      <th>previous_year_rating</th>\n",
              "      <th>length_of_service</th>\n",
              "      <th>awards_won?</th>\n",
              "      <th>avg_training_score</th>\n",
              "      <th>is_promoted</th>\n",
              "    </tr>\n",
              "  </thead>\n",
              "  <tbody>\n",
              "    <tr>\n",
              "      <th>0</th>\n",
              "      <td>65438</td>\n",
              "      <td>Sales &amp; Marketing</td>\n",
              "      <td>region_7</td>\n",
              "      <td>Master's &amp; above</td>\n",
              "      <td>f</td>\n",
              "      <td>sourcing</td>\n",
              "      <td>1</td>\n",
              "      <td>35</td>\n",
              "      <td>5.0</td>\n",
              "      <td>8</td>\n",
              "      <td>0</td>\n",
              "      <td>49</td>\n",
              "      <td>0</td>\n",
              "    </tr>\n",
              "    <tr>\n",
              "      <th>1</th>\n",
              "      <td>65141</td>\n",
              "      <td>Operations</td>\n",
              "      <td>region_22</td>\n",
              "      <td>Bachelor's</td>\n",
              "      <td>m</td>\n",
              "      <td>other</td>\n",
              "      <td>1</td>\n",
              "      <td>30</td>\n",
              "      <td>5.0</td>\n",
              "      <td>4</td>\n",
              "      <td>0</td>\n",
              "      <td>60</td>\n",
              "      <td>0</td>\n",
              "    </tr>\n",
              "    <tr>\n",
              "      <th>2</th>\n",
              "      <td>7513</td>\n",
              "      <td>Sales &amp; Marketing</td>\n",
              "      <td>region_19</td>\n",
              "      <td>Bachelor's</td>\n",
              "      <td>m</td>\n",
              "      <td>sourcing</td>\n",
              "      <td>1</td>\n",
              "      <td>34</td>\n",
              "      <td>3.0</td>\n",
              "      <td>7</td>\n",
              "      <td>0</td>\n",
              "      <td>50</td>\n",
              "      <td>0</td>\n",
              "    </tr>\n",
              "    <tr>\n",
              "      <th>3</th>\n",
              "      <td>2542</td>\n",
              "      <td>Sales &amp; Marketing</td>\n",
              "      <td>region_23</td>\n",
              "      <td>Bachelor's</td>\n",
              "      <td>m</td>\n",
              "      <td>other</td>\n",
              "      <td>2</td>\n",
              "      <td>39</td>\n",
              "      <td>1.0</td>\n",
              "      <td>10</td>\n",
              "      <td>0</td>\n",
              "      <td>50</td>\n",
              "      <td>0</td>\n",
              "    </tr>\n",
              "    <tr>\n",
              "      <th>4</th>\n",
              "      <td>48945</td>\n",
              "      <td>Technology</td>\n",
              "      <td>region_26</td>\n",
              "      <td>Bachelor's</td>\n",
              "      <td>m</td>\n",
              "      <td>other</td>\n",
              "      <td>1</td>\n",
              "      <td>45</td>\n",
              "      <td>3.0</td>\n",
              "      <td>2</td>\n",
              "      <td>0</td>\n",
              "      <td>73</td>\n",
              "      <td>0</td>\n",
              "    </tr>\n",
              "    <tr>\n",
              "      <th>...</th>\n",
              "      <td>...</td>\n",
              "      <td>...</td>\n",
              "      <td>...</td>\n",
              "      <td>...</td>\n",
              "      <td>...</td>\n",
              "      <td>...</td>\n",
              "      <td>...</td>\n",
              "      <td>...</td>\n",
              "      <td>...</td>\n",
              "      <td>...</td>\n",
              "      <td>...</td>\n",
              "      <td>...</td>\n",
              "      <td>...</td>\n",
              "    </tr>\n",
              "    <tr>\n",
              "      <th>54802</th>\n",
              "      <td>6915</td>\n",
              "      <td>Sales &amp; Marketing</td>\n",
              "      <td>region_14</td>\n",
              "      <td>Bachelor's</td>\n",
              "      <td>m</td>\n",
              "      <td>other</td>\n",
              "      <td>2</td>\n",
              "      <td>31</td>\n",
              "      <td>1.0</td>\n",
              "      <td>2</td>\n",
              "      <td>0</td>\n",
              "      <td>49</td>\n",
              "      <td>0</td>\n",
              "    </tr>\n",
              "    <tr>\n",
              "      <th>54803</th>\n",
              "      <td>3030</td>\n",
              "      <td>Technology</td>\n",
              "      <td>region_14</td>\n",
              "      <td>Bachelor's</td>\n",
              "      <td>m</td>\n",
              "      <td>sourcing</td>\n",
              "      <td>1</td>\n",
              "      <td>48</td>\n",
              "      <td>3.0</td>\n",
              "      <td>17</td>\n",
              "      <td>0</td>\n",
              "      <td>78</td>\n",
              "      <td>0</td>\n",
              "    </tr>\n",
              "    <tr>\n",
              "      <th>54804</th>\n",
              "      <td>74592</td>\n",
              "      <td>Operations</td>\n",
              "      <td>region_27</td>\n",
              "      <td>Master's &amp; above</td>\n",
              "      <td>f</td>\n",
              "      <td>other</td>\n",
              "      <td>1</td>\n",
              "      <td>37</td>\n",
              "      <td>2.0</td>\n",
              "      <td>6</td>\n",
              "      <td>0</td>\n",
              "      <td>56</td>\n",
              "      <td>0</td>\n",
              "    </tr>\n",
              "    <tr>\n",
              "      <th>54805</th>\n",
              "      <td>13918</td>\n",
              "      <td>Analytics</td>\n",
              "      <td>region_1</td>\n",
              "      <td>Bachelor's</td>\n",
              "      <td>m</td>\n",
              "      <td>other</td>\n",
              "      <td>1</td>\n",
              "      <td>27</td>\n",
              "      <td>5.0</td>\n",
              "      <td>3</td>\n",
              "      <td>0</td>\n",
              "      <td>79</td>\n",
              "      <td>0</td>\n",
              "    </tr>\n",
              "    <tr>\n",
              "      <th>54807</th>\n",
              "      <td>51526</td>\n",
              "      <td>HR</td>\n",
              "      <td>region_22</td>\n",
              "      <td>Bachelor's</td>\n",
              "      <td>m</td>\n",
              "      <td>other</td>\n",
              "      <td>1</td>\n",
              "      <td>27</td>\n",
              "      <td>1.0</td>\n",
              "      <td>5</td>\n",
              "      <td>0</td>\n",
              "      <td>49</td>\n",
              "      <td>0</td>\n",
              "    </tr>\n",
              "  </tbody>\n",
              "</table>\n",
              "<p>48660 rows × 13 columns</p>\n",
              "</div>"
            ],
            "text/plain": [
              "       employee_id         department     region         education gender  \\\n",
              "0            65438  Sales & Marketing   region_7  Master's & above      f   \n",
              "1            65141         Operations  region_22        Bachelor's      m   \n",
              "2             7513  Sales & Marketing  region_19        Bachelor's      m   \n",
              "3             2542  Sales & Marketing  region_23        Bachelor's      m   \n",
              "4            48945         Technology  region_26        Bachelor's      m   \n",
              "...            ...                ...        ...               ...    ...   \n",
              "54802         6915  Sales & Marketing  region_14        Bachelor's      m   \n",
              "54803         3030         Technology  region_14        Bachelor's      m   \n",
              "54804        74592         Operations  region_27  Master's & above      f   \n",
              "54805        13918          Analytics   region_1        Bachelor's      m   \n",
              "54807        51526                 HR  region_22        Bachelor's      m   \n",
              "\n",
              "      recruitment_channel  no_of_trainings  age  previous_year_rating  \\\n",
              "0                sourcing                1   35                   5.0   \n",
              "1                   other                1   30                   5.0   \n",
              "2                sourcing                1   34                   3.0   \n",
              "3                   other                2   39                   1.0   \n",
              "4                   other                1   45                   3.0   \n",
              "...                   ...              ...  ...                   ...   \n",
              "54802               other                2   31                   1.0   \n",
              "54803            sourcing                1   48                   3.0   \n",
              "54804               other                1   37                   2.0   \n",
              "54805               other                1   27                   5.0   \n",
              "54807               other                1   27                   1.0   \n",
              "\n",
              "       length_of_service  awards_won?  avg_training_score  is_promoted  \n",
              "0                      8            0                  49            0  \n",
              "1                      4            0                  60            0  \n",
              "2                      7            0                  50            0  \n",
              "3                     10            0                  50            0  \n",
              "4                      2            0                  73            0  \n",
              "...                  ...          ...                 ...          ...  \n",
              "54802                  2            0                  49            0  \n",
              "54803                 17            0                  78            0  \n",
              "54804                  6            0                  56            0  \n",
              "54805                  3            0                  79            0  \n",
              "54807                  5            0                  49            0  \n",
              "\n",
              "[48660 rows x 13 columns]"
            ]
          },
          "execution_count": 8,
          "metadata": {},
          "output_type": "execute_result"
        }
      ],
      "source": [
        "# display dataset\n",
        "dataset_1"
      ]
    },
    {
      "cell_type": "code",
      "execution_count": 9,
      "metadata": {
        "colab": {
          "base_uri": "https://localhost:8080/"
        },
        "id": "sLiUsoQo0nXd",
        "outputId": "a2b666c4-e19f-40f3-a1f9-0ba2fbd28bd8"
      },
      "outputs": [
        {
          "name": "stdout",
          "output_type": "stream",
          "text": [
            "<class 'pandas.core.frame.DataFrame'>\n",
            "Index: 48660 entries, 0 to 54807\n",
            "Data columns (total 13 columns):\n",
            " #   Column                Non-Null Count  Dtype  \n",
            "---  ------                --------------  -----  \n",
            " 0   employee_id           48660 non-null  int64  \n",
            " 1   department            48660 non-null  object \n",
            " 2   region                48660 non-null  object \n",
            " 3   education             48660 non-null  object \n",
            " 4   gender                48660 non-null  object \n",
            " 5   recruitment_channel   48660 non-null  object \n",
            " 6   no_of_trainings       48660 non-null  int64  \n",
            " 7   age                   48660 non-null  int64  \n",
            " 8   previous_year_rating  48660 non-null  float64\n",
            " 9   length_of_service     48660 non-null  int64  \n",
            " 10  awards_won?           48660 non-null  int64  \n",
            " 11  avg_training_score    48660 non-null  int64  \n",
            " 12  is_promoted           48660 non-null  int64  \n",
            "dtypes: float64(1), int64(7), object(5)\n",
            "memory usage: 5.2+ MB\n"
          ]
        }
      ],
      "source": [
        "# dataset information\n",
        "dataset_1.info()"
      ]
    },
    {
      "cell_type": "code",
      "execution_count": 10,
      "metadata": {
        "colab": {
          "base_uri": "https://localhost:8080/",
          "height": 300
        },
        "id": "VKuDsEMMv0ZQ",
        "outputId": "8c2d2745-0357-4ead-d67e-f71db3571779"
      },
      "outputs": [
        {
          "data": {
            "application/vnd.microsoft.datawrangler.viewer.v0+json": {
              "columns": [
                {
                  "name": "index",
                  "rawType": "object",
                  "type": "string"
                },
                {
                  "name": "employee_id",
                  "rawType": "float64",
                  "type": "float"
                },
                {
                  "name": "no_of_trainings",
                  "rawType": "float64",
                  "type": "float"
                },
                {
                  "name": "age",
                  "rawType": "float64",
                  "type": "float"
                },
                {
                  "name": "previous_year_rating",
                  "rawType": "float64",
                  "type": "float"
                },
                {
                  "name": "length_of_service",
                  "rawType": "float64",
                  "type": "float"
                },
                {
                  "name": "awards_won?",
                  "rawType": "float64",
                  "type": "float"
                },
                {
                  "name": "avg_training_score",
                  "rawType": "float64",
                  "type": "float"
                },
                {
                  "name": "is_promoted",
                  "rawType": "float64",
                  "type": "float"
                }
              ],
              "conversionMethod": "pd.DataFrame",
              "ref": "653308e6-b2b3-4fd4-8013-1c985a5488c2",
              "rows": [
                [
                  "count",
                  "48660.0",
                  "48660.0",
                  "48660.0",
                  "48660.0",
                  "48660.0",
                  "48660.0",
                  "48660.0",
                  "48660.0"
                ],
                [
                  "mean",
                  "39169.271681052196",
                  "1.251993423756679",
                  "35.58943690916564",
                  "3.3375256884504725",
                  "6.311570078092889",
                  "0.023140156185778873",
                  "63.60330867242088",
                  "0.08697081792026305"
                ],
                [
                  "std",
                  "22630.46155372302",
                  "0.6049939902420637",
                  "7.5345710153233405",
                  "1.2579223704692568",
                  "4.204759614109037",
                  "0.15035010445815444",
                  "13.273502102279684",
                  "0.2817951856511157"
                ],
                [
                  "min",
                  "1.0",
                  "1.0",
                  "20.0",
                  "1.0",
                  "1.0",
                  "0.0",
                  "39.0",
                  "0.0"
                ],
                [
                  "25%",
                  "19563.5",
                  "1.0",
                  "30.0",
                  "3.0",
                  "3.0",
                  "0.0",
                  "51.0",
                  "0.0"
                ],
                [
                  "50%",
                  "39154.0",
                  "1.0",
                  "34.0",
                  "3.0",
                  "5.0",
                  "0.0",
                  "60.0",
                  "0.0"
                ],
                [
                  "75%",
                  "58788.25",
                  "1.0",
                  "39.0",
                  "4.0",
                  "8.0",
                  "0.0",
                  "76.0",
                  "0.0"
                ],
                [
                  "max",
                  "78298.0",
                  "10.0",
                  "60.0",
                  "5.0",
                  "37.0",
                  "1.0",
                  "99.0",
                  "1.0"
                ]
              ],
              "shape": {
                "columns": 8,
                "rows": 8
              }
            },
            "text/html": [
              "<div>\n",
              "<style scoped>\n",
              "    .dataframe tbody tr th:only-of-type {\n",
              "        vertical-align: middle;\n",
              "    }\n",
              "\n",
              "    .dataframe tbody tr th {\n",
              "        vertical-align: top;\n",
              "    }\n",
              "\n",
              "    .dataframe thead th {\n",
              "        text-align: right;\n",
              "    }\n",
              "</style>\n",
              "<table border=\"1\" class=\"dataframe\">\n",
              "  <thead>\n",
              "    <tr style=\"text-align: right;\">\n",
              "      <th></th>\n",
              "      <th>employee_id</th>\n",
              "      <th>no_of_trainings</th>\n",
              "      <th>age</th>\n",
              "      <th>previous_year_rating</th>\n",
              "      <th>length_of_service</th>\n",
              "      <th>awards_won?</th>\n",
              "      <th>avg_training_score</th>\n",
              "      <th>is_promoted</th>\n",
              "    </tr>\n",
              "  </thead>\n",
              "  <tbody>\n",
              "    <tr>\n",
              "      <th>count</th>\n",
              "      <td>48660.000000</td>\n",
              "      <td>48660.000000</td>\n",
              "      <td>48660.000000</td>\n",
              "      <td>48660.000000</td>\n",
              "      <td>48660.00000</td>\n",
              "      <td>48660.00000</td>\n",
              "      <td>48660.000000</td>\n",
              "      <td>48660.000000</td>\n",
              "    </tr>\n",
              "    <tr>\n",
              "      <th>mean</th>\n",
              "      <td>39169.271681</td>\n",
              "      <td>1.251993</td>\n",
              "      <td>35.589437</td>\n",
              "      <td>3.337526</td>\n",
              "      <td>6.31157</td>\n",
              "      <td>0.02314</td>\n",
              "      <td>63.603309</td>\n",
              "      <td>0.086971</td>\n",
              "    </tr>\n",
              "    <tr>\n",
              "      <th>std</th>\n",
              "      <td>22630.461554</td>\n",
              "      <td>0.604994</td>\n",
              "      <td>7.534571</td>\n",
              "      <td>1.257922</td>\n",
              "      <td>4.20476</td>\n",
              "      <td>0.15035</td>\n",
              "      <td>13.273502</td>\n",
              "      <td>0.281795</td>\n",
              "    </tr>\n",
              "    <tr>\n",
              "      <th>min</th>\n",
              "      <td>1.000000</td>\n",
              "      <td>1.000000</td>\n",
              "      <td>20.000000</td>\n",
              "      <td>1.000000</td>\n",
              "      <td>1.00000</td>\n",
              "      <td>0.00000</td>\n",
              "      <td>39.000000</td>\n",
              "      <td>0.000000</td>\n",
              "    </tr>\n",
              "    <tr>\n",
              "      <th>25%</th>\n",
              "      <td>19563.500000</td>\n",
              "      <td>1.000000</td>\n",
              "      <td>30.000000</td>\n",
              "      <td>3.000000</td>\n",
              "      <td>3.00000</td>\n",
              "      <td>0.00000</td>\n",
              "      <td>51.000000</td>\n",
              "      <td>0.000000</td>\n",
              "    </tr>\n",
              "    <tr>\n",
              "      <th>50%</th>\n",
              "      <td>39154.000000</td>\n",
              "      <td>1.000000</td>\n",
              "      <td>34.000000</td>\n",
              "      <td>3.000000</td>\n",
              "      <td>5.00000</td>\n",
              "      <td>0.00000</td>\n",
              "      <td>60.000000</td>\n",
              "      <td>0.000000</td>\n",
              "    </tr>\n",
              "    <tr>\n",
              "      <th>75%</th>\n",
              "      <td>58788.250000</td>\n",
              "      <td>1.000000</td>\n",
              "      <td>39.000000</td>\n",
              "      <td>4.000000</td>\n",
              "      <td>8.00000</td>\n",
              "      <td>0.00000</td>\n",
              "      <td>76.000000</td>\n",
              "      <td>0.000000</td>\n",
              "    </tr>\n",
              "    <tr>\n",
              "      <th>max</th>\n",
              "      <td>78298.000000</td>\n",
              "      <td>10.000000</td>\n",
              "      <td>60.000000</td>\n",
              "      <td>5.000000</td>\n",
              "      <td>37.00000</td>\n",
              "      <td>1.00000</td>\n",
              "      <td>99.000000</td>\n",
              "      <td>1.000000</td>\n",
              "    </tr>\n",
              "  </tbody>\n",
              "</table>\n",
              "</div>"
            ],
            "text/plain": [
              "        employee_id  no_of_trainings           age  previous_year_rating  \\\n",
              "count  48660.000000     48660.000000  48660.000000          48660.000000   \n",
              "mean   39169.271681         1.251993     35.589437              3.337526   \n",
              "std    22630.461554         0.604994      7.534571              1.257922   \n",
              "min        1.000000         1.000000     20.000000              1.000000   \n",
              "25%    19563.500000         1.000000     30.000000              3.000000   \n",
              "50%    39154.000000         1.000000     34.000000              3.000000   \n",
              "75%    58788.250000         1.000000     39.000000              4.000000   \n",
              "max    78298.000000        10.000000     60.000000              5.000000   \n",
              "\n",
              "       length_of_service  awards_won?  avg_training_score   is_promoted  \n",
              "count        48660.00000  48660.00000        48660.000000  48660.000000  \n",
              "mean             6.31157      0.02314           63.603309      0.086971  \n",
              "std              4.20476      0.15035           13.273502      0.281795  \n",
              "min              1.00000      0.00000           39.000000      0.000000  \n",
              "25%              3.00000      0.00000           51.000000      0.000000  \n",
              "50%              5.00000      0.00000           60.000000      0.000000  \n",
              "75%              8.00000      0.00000           76.000000      0.000000  \n",
              "max             37.00000      1.00000           99.000000      1.000000  "
            ]
          },
          "execution_count": 10,
          "metadata": {},
          "output_type": "execute_result"
        }
      ],
      "source": [
        "# describe dataset\n",
        "dataset_1.describe()"
      ]
    },
    {
      "cell_type": "code",
      "execution_count": 11,
      "metadata": {
        "colab": {
          "base_uri": "https://localhost:8080/"
        },
        "id": "DCTsbUtaCtJo",
        "outputId": "8ed492d3-1c2e-45d4-aad3-9c76e65b40c2"
      },
      "outputs": [
        {
          "name": "stdout",
          "output_type": "stream",
          "text": [
            "is_promoted\n",
            "0    44428\n",
            "1     4232\n",
            "Name: count, dtype: int64\n"
          ]
        }
      ],
      "source": [
        "# output distribution\n",
        "print(dataset_1['is_promoted'].value_counts())"
      ]
    },
    {
      "cell_type": "code",
      "execution_count": 12,
      "metadata": {
        "colab": {
          "base_uri": "https://localhost:8080/"
        },
        "id": "R7gVbIEtCzL1",
        "outputId": "eb716f3c-ad24-4f5d-da93-4cf199112f0f"
      },
      "outputs": [
        {
          "name": "stdout",
          "output_type": "stream",
          "text": [
            "gender\n",
            "m    33852\n",
            "f    14808\n",
            "Name: count, dtype: int64\n"
          ]
        }
      ],
      "source": [
        "# sensitive attribute distribution\n",
        "print(dataset_1['gender'].value_counts())"
      ]
    },
    {
      "cell_type": "code",
      "execution_count": 13,
      "metadata": {
        "colab": {
          "base_uri": "https://localhost:8080/"
        },
        "id": "kgyFRHdewB4s",
        "outputId": "532ff0b9-7349-40fd-f86e-6933f790d2ae"
      },
      "outputs": [
        {
          "name": "stdout",
          "output_type": "stream",
          "text": [
            "gender vs class 0 (No Promoted)\n",
            "gender\n",
            "m    30983\n",
            "f    13445\n",
            "Name: count, dtype: int64\n",
            "\n",
            "\n",
            "gender vs class 1 (Promoted)\n",
            "gender\n",
            "m    2869\n",
            "f    1363\n",
            "Name: count, dtype: int64\n",
            "\n",
            "\n"
          ]
        }
      ],
      "source": [
        "# Explore sensitive attribute input -- 1\n",
        "\n",
        "def value_counts_by_output_class(fet, dataset_999 = dataset_1):\n",
        "\n",
        "    temp1 = dataset_999[dataset_999[\"is_promoted\"] == 0][fet].value_counts(ascending=False)\n",
        "\n",
        "    print(str(fet) + \" vs class 0 (No Promoted)\")\n",
        "    print(temp1)\n",
        "    print(\"\\n\")\n",
        "\n",
        "    temp2 = dataset_999[dataset_999[\"is_promoted\"] == 1][fet].value_counts(ascending=False)\n",
        "    print(str(fet) + \" vs class 1 (Promoted)\")\n",
        "    print(temp2)\n",
        "    print(\"\\n\")\n",
        "\n",
        "\n",
        "# Change here to explore all the discrete input features to determine which input feature that we will use later\n",
        "value_counts_by_output_class(\"gender\", dataset_1)"
      ]
    },
    {
      "cell_type": "code",
      "execution_count": 14,
      "metadata": {
        "colab": {
          "base_uri": "https://localhost:8080/"
        },
        "id": "giLg3bUDwmpD",
        "outputId": "c3fa4a42-66a0-4f14-b8a2-02d708219a06"
      },
      "outputs": [
        {
          "name": "stdout",
          "output_type": "stream",
          "text": [
            "is_promoted vs Gender (Male)\n",
            "is_promoted\n",
            "0    30983\n",
            "1     2869\n",
            "Name: count, dtype: int64\n",
            "\n",
            "\n",
            "is_promoted vs Gender (Female)\n",
            "is_promoted\n",
            "0    13445\n",
            "1     1363\n",
            "Name: count, dtype: int64\n",
            "\n",
            "\n"
          ]
        }
      ],
      "source": [
        "# Explore sensitive attribute input -- 2\n",
        "\n",
        "def value_counts_by_output_class(fet, dataset_999 = dataset_1):\n",
        "\n",
        "    temp1 = dataset_999[dataset_999[fet] == \"m\"][\"is_promoted\"].value_counts(ascending=False)\n",
        "\n",
        "    print(\"is_promoted\" + \" vs Gender (Male)\")\n",
        "    print(temp1)\n",
        "    print(\"\\n\")\n",
        "\n",
        "    temp2 = dataset_999[dataset_999[fet] == \"f\"][\"is_promoted\"].value_counts(ascending=False)\n",
        "    print(\"is_promoted\" + \" vs Gender (Female)\")\n",
        "    print(temp2)\n",
        "    print(\"\\n\")\n",
        "\n",
        "\n",
        "# Change here to explore all the discrete input features to determine which input feature that we will use later\n",
        "value_counts_by_output_class(\"gender\", dataset_1)"
      ]
    },
    {
      "cell_type": "markdown",
      "metadata": {
        "id": "iRIExm1_zHJm"
      },
      "source": [
        "## Section 5: Create Input Matrix X"
      ]
    },
    {
      "cell_type": "code",
      "execution_count": 15,
      "metadata": {
        "colab": {
          "base_uri": "https://localhost:8080/"
        },
        "id": "6ITua2Ya0T7y",
        "outputId": "6f4adab3-902b-4a8c-8ee4-9bd0c8341b97"
      },
      "outputs": [
        {
          "name": "stdout",
          "output_type": "stream",
          "text": [
            "48660\n"
          ]
        }
      ],
      "source": [
        "n = len(dataset_1)\n",
        "print(n)"
      ]
    },
    {
      "cell_type": "code",
      "execution_count": 16,
      "metadata": {
        "colab": {
          "base_uri": "https://localhost:8080/"
        },
        "id": "_m6xCLu80Yek",
        "outputId": "43ecfa8a-d8b8-4663-e81d-7bad6698d5a4"
      },
      "outputs": [
        {
          "name": "stdout",
          "output_type": "stream",
          "text": [
            "2\n",
            "8\n"
          ]
        }
      ],
      "source": [
        "# Continuous\n",
        "selected_features_1 = ['age', 'avg_training_score']\n",
        "\n",
        "# Discrete\n",
        "selected_features_2 = ['department', 'region', 'education', 'recruitment_channel', 'no_of_trainings', 'previous_year_rating', 'length_of_service', 'awards_won?']\n",
        "\n",
        "# Sensitive Attribute\n",
        "sensitive_features = ['gender']\n",
        "\n",
        "print(len(selected_features_1))\n",
        "print(len(selected_features_2))"
      ]
    },
    {
      "cell_type": "code",
      "execution_count": 17,
      "metadata": {},
      "outputs": [
        {
          "name": "stdout",
          "output_type": "stream",
          "text": [
            "11\n"
          ]
        },
        {
          "data": {
            "text/plain": [
              "['c:\\\\Data\\\\Canada\\\\Study\\\\masters\\\\CSI5195 - Ethics in AI\\\\Project\\\\content\\\\features.pkl']"
            ]
          },
          "execution_count": 17,
          "metadata": {},
          "output_type": "execute_result"
        }
      ],
      "source": [
        "# Save a list of features \n",
        "features = selected_features_1 + selected_features_2 + sensitive_features\n",
        "print(len(features))\n",
        "joblib.dump(features, os.path.join(ROOT, 'content', 'features.pkl'))"
      ]
    },
    {
      "cell_type": "code",
      "execution_count": 18,
      "metadata": {
        "colab": {
          "base_uri": "https://localhost:8080/"
        },
        "id": "1ctHAVbB16o7",
        "outputId": "a6a95359-9fe9-4680-d4f3-09c8b4f09ec9"
      },
      "outputs": [
        {
          "name": "stdout",
          "output_type": "stream",
          "text": [
            "(48660, 3)\n",
            "(48660, 2)\n"
          ]
        }
      ],
      "source": [
        "input_b = np.ones([n, 1])\n",
        "input_X_0 = dataset_1[sensitive_features]\n",
        "input_X_1 = dataset_1[selected_features_1]\n",
        "input_X = np.concatenate((input_b, input_X_1), axis = 1)\n",
        "\n",
        "output_Y = dataset_1[['gender','is_promoted']].to_numpy()\n",
        "\n",
        "\n",
        "print(input_X.shape)\n",
        "print(output_Y.shape)"
      ]
    },
    {
      "cell_type": "code",
      "execution_count": 19,
      "metadata": {
        "colab": {
          "base_uri": "https://localhost:8080/"
        },
        "id": "2WoM5ECk2JTc",
        "outputId": "d81888d4-0329-4c85-bc49-11914a92846f"
      },
      "outputs": [
        {
          "name": "stdout",
          "output_type": "stream",
          "text": [
            "<class 'numpy.ndarray'>\n",
            "<class 'numpy.ndarray'>\n"
          ]
        }
      ],
      "source": [
        "print(type(input_X))\n",
        "print(type(output_Y))"
      ]
    },
    {
      "cell_type": "code",
      "execution_count": 20,
      "metadata": {
        "colab": {
          "base_uri": "https://localhost:8080/"
        },
        "id": "gfmmI2zY2UA5",
        "outputId": "3ebc0d2b-5ef5-4ed0-e3fc-32816b64f047"
      },
      "outputs": [
        {
          "name": "stdout",
          "output_type": "stream",
          "text": [
            "(48660, 3)\n",
            "(48660, 12)\n",
            "(48660, 46)\n",
            "(48660, 49)\n",
            "(48660, 52)\n",
            "(48660, 62)\n",
            "(48660, 67)\n",
            "(48660, 102)\n",
            "(48660, 104)\n",
            "(48660, 105)\n"
          ]
        }
      ],
      "source": [
        "data_total_0 = input_X\n",
        "print(data_total_0.shape)\n",
        "\n",
        "for i in selected_features_2:\n",
        "    data_1 =  np.array(dataset_1[[i]])\n",
        "    list_1 = data_1.tolist()\n",
        "\n",
        "    list_1_new = []\n",
        "    mapping_list_1 = {}\n",
        "\n",
        "    for j in range(len(list_1)):\n",
        "        if list_1[j][0] not in list_1_new:\n",
        "            list_1_new.append(list_1[j][0])\n",
        "        if list_1[j][0] not in mapping_list_1:\n",
        "            mapping_list_1[list_1[j][0]] = len(mapping_list_1)\n",
        "\n",
        "\n",
        "    for k in list_1_new:\n",
        "        data_new = (data_1 == k).astype(int)\n",
        "        data_total_0 = np.concatenate((data_total_0, data_new), axis = 1)\n",
        "\n",
        "    print(data_total_0.shape)\n",
        "\n",
        "data_total = np.concatenate((input_X_0, data_total_0), axis = 1)\n",
        "print(data_total.shape)"
      ]
    },
    {
      "cell_type": "code",
      "execution_count": 21,
      "metadata": {
        "colab": {
          "base_uri": "https://localhost:8080/"
        },
        "id": "1XkFE3DV3HPB",
        "outputId": "defd32d1-ddfe-4607-e7e5-f27ff7cd85c8"
      },
      "outputs": [
        {
          "name": "stdout",
          "output_type": "stream",
          "text": [
            "(48660, 105)\n",
            "(48660, 2)\n"
          ]
        }
      ],
      "source": [
        "print(data_total.shape)\n",
        "print(output_Y.shape)"
      ]
    },
    {
      "cell_type": "code",
      "execution_count": 22,
      "metadata": {
        "colab": {
          "base_uri": "https://localhost:8080/"
        },
        "id": "ZbZgs18E3HqD",
        "outputId": "b08620c2-c7a3-428b-8cc7-8ff1eb8923d9"
      },
      "outputs": [
        {
          "name": "stdout",
          "output_type": "stream",
          "text": [
            "[['f' 1.0 35.0 ... 0.0 1.0 0.0]\n",
            " ['m' 1.0 30.0 ... 0.0 1.0 0.0]\n",
            " ['m' 1.0 34.0 ... 0.0 1.0 0.0]\n",
            " ...\n",
            " ['f' 1.0 37.0 ... 0.0 1.0 0.0]\n",
            " ['m' 1.0 27.0 ... 0.0 1.0 0.0]\n",
            " ['m' 1.0 27.0 ... 0.0 1.0 0.0]]\n",
            "[['f' 0]\n",
            " ['m' 0]\n",
            " ['m' 0]\n",
            " ...\n",
            " ['f' 0]\n",
            " ['m' 0]\n",
            " ['m' 0]]\n"
          ]
        }
      ],
      "source": [
        "print(data_total)\n",
        "print(output_Y)"
      ]
    },
    {
      "cell_type": "markdown",
      "metadata": {
        "id": "cqvoEA2u3PVh"
      },
      "source": [
        "## Section 6: Split Dataset and Normalization"
      ]
    },
    {
      "cell_type": "code",
      "execution_count": 23,
      "metadata": {
        "id": "zsTEfAqf0WfN"
      },
      "outputs": [],
      "source": [
        "X_train, X_test, t_train, t_test = train_test_split(data_total, output_Y, test_size=0.2, random_state=66)\n",
        "\n",
        "# female: 1      male: 0\n",
        "X_train[:, 0] = (X_train[:, 0] == 'f').astype(int)\n",
        "t_train[:, 0] = (t_train[:, 0] == 'f').astype(int)\n",
        "\n",
        "X_test[:, 0] = (X_test[:, 0] == 'f').astype(int)\n",
        "t_test[:, 0] = (t_test[:, 0] == 'f').astype(int)"
      ]
    },
    {
      "cell_type": "code",
      "execution_count": 24,
      "metadata": {
        "colab": {
          "base_uri": "https://localhost:8080/"
        },
        "id": "eEstcLUA02Ik",
        "outputId": "64d230f8-350e-429c-f63a-50a7c8187ca1"
      },
      "outputs": [
        {
          "name": "stdout",
          "output_type": "stream",
          "text": [
            "[-3.05568011e-16  1.73058809e-16]\n",
            "[1. 1.]\n",
            "[0.0182774  0.00047963]\n",
            "[1.01642833 0.99651151]\n"
          ]
        }
      ],
      "source": [
        "mean = X_train[:, 2:4].astype(float).mean(axis=0)\n",
        "std  = X_train[:, 2:4].astype(float).std(axis=0)\n",
        "\n",
        "X_train_norm = X_train.copy()\n",
        "X_test_norm = X_test.copy()\n",
        "\n",
        "X_train_norm[:, 2:4] = (X_train[:, 2:4] - mean) / std\n",
        "X_test_norm[:, 2:4] = (X_test[:, 2:4] - mean) / std\n",
        "\n",
        "\n",
        "print(X_train_norm[:, 2:4].astype(float).mean(axis=0)) # Should be all very close to 0\n",
        "print(X_train_norm[:, 2:4].astype(float).std(axis=0))  # Should be all very close to 1\n",
        "print(X_test_norm[:, 2:4].astype(float).mean(axis=0)) # Should be close to 0\n",
        "print(X_test_norm[:, 2:4].astype(float).std(axis=0))  # Should be close to 1"
      ]
    },
    {
      "cell_type": "code",
      "execution_count": 25,
      "metadata": {
        "colab": {
          "base_uri": "https://localhost:8080/"
        },
        "id": "S-mRPlQc3T8C",
        "outputId": "60912976-2403-4c89-bc7a-f902796f95bd"
      },
      "outputs": [
        {
          "name": "stdout",
          "output_type": "stream",
          "text": [
            "(38928, 105)\n",
            "(9732, 105)\n",
            "(38928, 2)\n",
            "(9732, 2)\n",
            "\n",
            "\n",
            "(38928, 104)\n",
            "(9732, 104)\n",
            "\n",
            "\n",
            "(38928,)\n",
            "(9732,)\n",
            "(38928,)\n",
            "(9732,)\n"
          ]
        }
      ],
      "source": [
        "X_train_no_gender = X_train_norm[:, 1:].astype(float)\n",
        "X_test_no_gender = X_test_norm[:, 1:].astype(float)\n",
        "\n",
        "t_train_gender = t_train[:, 0].astype(float)\n",
        "t_test_gender  = t_test[:, 0].astype(float)\n",
        "\n",
        "t_train_no_gender = t_train[:, 1].astype(float)\n",
        "t_test_no_gender = t_test[:, 1].astype(float)\n",
        "\n",
        "print(X_train_norm.shape)\n",
        "print(X_test_norm.shape)\n",
        "print(t_train.shape)\n",
        "print(t_test.shape)\n",
        "\n",
        "print(\"\\n\")\n",
        "print(X_train_no_gender.shape)\n",
        "print(X_test_no_gender.shape)\n",
        "\n",
        "print(\"\\n\")\n",
        "print(t_train_gender.shape)\n",
        "print(t_test_gender.shape)\n",
        "print(t_train_no_gender.shape)\n",
        "print(t_test_no_gender.shape)"
      ]
    },
    {
      "cell_type": "code",
      "execution_count": 26,
      "metadata": {
        "colab": {
          "base_uri": "https://localhost:8080/"
        },
        "id": "bQ2zPeHq3ZEc",
        "outputId": "a9ffb0ac-3fb2-49a5-d2e8-56f008fbf8b4"
      },
      "outputs": [
        {
          "name": "stdout",
          "output_type": "stream",
          "text": [
            "False\n",
            "False\n",
            "False\n",
            "False\n",
            "False\n",
            "False\n",
            "False\n",
            "False\n"
          ]
        }
      ],
      "source": [
        "print(np.isnan(X_train_no_gender).any())\n",
        "print(np.isinf(X_train_no_gender).any())\n",
        "print(np.isnan(X_test_no_gender).any())\n",
        "print(np.isinf(X_test_no_gender).any())\n",
        "\n",
        "print(np.isnan(t_train_no_gender).any())\n",
        "print(np.isinf(t_train_no_gender).any())\n",
        "print(np.isnan(t_test_no_gender).any())\n",
        "print(np.isinf(t_test_no_gender).any())"
      ]
    },
    {
      "cell_type": "code",
      "execution_count": 27,
      "metadata": {
        "colab": {
          "base_uri": "https://localhost:8080/"
        },
        "id": "PVqD4OwSLcuO",
        "outputId": "aaaabec2-70a5-4c9a-b75f-88305253ec9d"
      },
      "outputs": [
        {
          "name": "stdout",
          "output_type": "stream",
          "text": [
            "[[ 1.          0.05832828  0.9333976  ...  0.          1.\n",
            "   0.        ]\n",
            " [ 1.         -0.20800251  0.40639313 ...  0.          1.\n",
            "   0.        ]\n",
            " [ 1.          0.45782446 -0.94876122 ...  0.          1.\n",
            "   0.        ]\n",
            " ...\n",
            " [ 1.          0.72415526 -0.04532498 ...  0.          1.\n",
            "   0.        ]\n",
            " [ 1.         -0.47433331  1.46040207 ...  0.          1.\n",
            "   0.        ]\n",
            " [ 1.         -1.00699489  1.61097478 ...  0.          1.\n",
            "   0.        ]]\n",
            "[1. 0. 0. ... 1. 0. 1.]\n",
            "[0. 0. 0. ... 0. 0. 0.]\n"
          ]
        }
      ],
      "source": [
        "print(X_train_no_gender)\n",
        "print(t_train_gender)\n",
        "print(t_train_no_gender)"
      ]
    },
    {
      "cell_type": "code",
      "execution_count": 28,
      "metadata": {
        "colab": {
          "base_uri": "https://localhost:8080/"
        },
        "id": "l745hzkcexdk",
        "outputId": "33432a83-0ec9-4669-bdc5-023ce8d0c13f"
      },
      "outputs": [
        {
          "name": "stdout",
          "output_type": "stream",
          "text": [
            "[[ 1.         -0.07483712 -0.19589769 ...  0.          1.\n",
            "   0.        ]\n",
            " [ 1.         -0.7406641   0.48167949 ...  0.          1.\n",
            "   0.        ]\n",
            " [ 1.         -0.6074987  -1.02404757 ...  0.          1.\n",
            "   0.        ]\n",
            " ...\n",
            " [ 1.         -0.7406641  -0.72290216 ...  0.          1.\n",
            "   0.        ]\n",
            " [ 1.         -1.53965647 -1.17462028 ...  0.          1.\n",
            "   0.        ]\n",
            " [ 1.         -0.87382949  1.83683384 ...  0.          1.\n",
            "   0.        ]]\n",
            "[0. 0. 0. ... 0. 0. 0.]\n",
            "[0. 0. 0. ... 0. 0. 1.]\n"
          ]
        }
      ],
      "source": [
        "print(X_test_no_gender)\n",
        "print(t_test_gender)\n",
        "print(t_test_no_gender)"
      ]
    },
    {
      "cell_type": "code",
      "execution_count": 29,
      "metadata": {},
      "outputs": [],
      "source": [
        "# Save Labels\n",
        "np.save(os.path.join(ROOT, \"content\", \"y_train_gender.npy\"), t_train_gender)\n",
        "np.save(os.path.join(ROOT, \"content\", \"y_train_no_gender.npy\"), t_train_no_gender)\n",
        "np.save(os.path.join(ROOT, \"content\", \"y_test_gender.npy\"), t_test_gender)\n",
        "np.save(os.path.join(ROOT, \"content\", \"y_test_no_gender.npy\"), t_test_no_gender)"
      ]
    },
    {
      "cell_type": "code",
      "execution_count": 30,
      "metadata": {
        "colab": {
          "base_uri": "https://localhost:8080/"
        },
        "id": "EWZZ340He2Eo",
        "outputId": "7a79d858-87bb-4c40-b2f4-07e75e967441"
      },
      "outputs": [
        {
          "name": "stdout",
          "output_type": "stream",
          "text": [
            "is_promoted vs Gender (Male):\n",
            "is_promoted\n",
            "0.0    24818\n",
            "1.0     2277\n",
            "Name: count, dtype: int64\n",
            "\n",
            "is_promoted vs Gender (Female):\n",
            "is_promoted\n",
            "0.0    10721\n",
            "1.0     1112\n",
            "Name: count, dtype: int64\n",
            "\n",
            "gender vs class 0 (No Promoted):\n",
            "gender\n",
            "0    24818\n",
            "1    10721\n",
            "Name: count, dtype: int64\n",
            "\n",
            "gender vs class 1 (Promoted):\n",
            "gender\n",
            "0    2277\n",
            "1    1112\n",
            "Name: count, dtype: int64\n"
          ]
        }
      ],
      "source": [
        "new_df_0 = pd.DataFrame({\n",
        "    'gender': X_train_norm[:, 0],\n",
        "    'is_promoted': t_train_no_gender\n",
        "})\n",
        "\n",
        "# Promotion Distribution in Train Dataset\n",
        "print(\"is_promoted vs Gender (Male):\")\n",
        "print(new_df_0[new_df_0['gender'] == 0]['is_promoted'].value_counts())\n",
        "\n",
        "print(\"\\nis_promoted vs Gender (Female):\")\n",
        "print(new_df_0[new_df_0['gender'] == 1]['is_promoted'].value_counts())\n",
        "\n",
        "# Gender Distribution in Train Dataset\n",
        "print(\"\\ngender vs class 0 (No Promoted):\")\n",
        "print(new_df_0[new_df_0['is_promoted'] == 0]['gender'].value_counts())\n",
        "\n",
        "print(\"\\ngender vs class 1 (Promoted):\")\n",
        "print(new_df_0[new_df_0['is_promoted'] == 1]['gender'].value_counts())"
      ]
    },
    {
      "cell_type": "code",
      "execution_count": 31,
      "metadata": {
        "colab": {
          "base_uri": "https://localhost:8080/"
        },
        "id": "fiOemVcpnpfH",
        "outputId": "6118662f-78fd-4932-e4a2-fdd77ae7d5d1"
      },
      "outputs": [
        {
          "name": "stdout",
          "output_type": "stream",
          "text": [
            "is_promoted vs Gender (Male):\n",
            "is_promoted\n",
            "0.0    6165\n",
            "1.0     592\n",
            "Name: count, dtype: int64\n",
            "\n",
            "is_promoted vs Gender (Female):\n",
            "is_promoted\n",
            "0.0    2724\n",
            "1.0     251\n",
            "Name: count, dtype: int64\n",
            "\n",
            "gender vs class 0 (No Promoted):\n",
            "gender\n",
            "0    6165\n",
            "1    2724\n",
            "Name: count, dtype: int64\n",
            "\n",
            "gender vs class 1 (Promoted):\n",
            "gender\n",
            "0    592\n",
            "1    251\n",
            "Name: count, dtype: int64\n"
          ]
        }
      ],
      "source": [
        "new_df_1 = pd.DataFrame({\n",
        "    'gender': X_test_norm[:, 0],\n",
        "    'is_promoted': t_test_no_gender\n",
        "})\n",
        "\n",
        "# Promotion Distribution in Test Dataset\n",
        "print(\"is_promoted vs Gender (Male):\")\n",
        "print(new_df_1[new_df_1['gender'] == 0]['is_promoted'].value_counts())\n",
        "\n",
        "print(\"\\nis_promoted vs Gender (Female):\")\n",
        "print(new_df_1[new_df_1['gender'] == 1]['is_promoted'].value_counts())\n",
        "\n",
        "# Gender Distribution in Test Dataset\n",
        "print(\"\\ngender vs class 0 (No Promoted):\")\n",
        "print(new_df_1[new_df_1['is_promoted'] == 0]['gender'].value_counts())\n",
        "\n",
        "print(\"\\ngender vs class 1 (Promoted):\")\n",
        "print(new_df_1[new_df_1['is_promoted'] == 1]['gender'].value_counts())"
      ]
    },
    {
      "cell_type": "code",
      "execution_count": 32,
      "metadata": {},
      "outputs": [],
      "source": [
        "# Save the Data\n",
        "np.save(os.path.join(ROOT, \"content\", \"X_train_no_gender.npy\"), X_train_no_gender)\n",
        "np.save(os.path.join(ROOT, \"content\", \"X_test_no_gender.npy\"), X_test_no_gender)\n",
        "np.save(os.path.join(ROOT, \"content\", \"X_train_norm.npy\"), X_train_norm)\n",
        "np.save(os.path.join(ROOT, \"content\", \"X_test_norm.npy\"), X_test_norm)"
      ]
    },
    {
      "cell_type": "markdown",
      "metadata": {
        "id": "51TqRXPK3eSk"
      },
      "source": [
        "## Section 7: Build model by Sklearn"
      ]
    },
    {
      "cell_type": "code",
      "execution_count": 33,
      "metadata": {
        "colab": {
          "base_uri": "https://localhost:8080/"
        },
        "id": "aEXir_bj4Ctl",
        "outputId": "224ec745-8df1-4dec-a1ff-c5f791f0b5e4"
      },
      "outputs": [
        {
          "name": "stderr",
          "output_type": "stream",
          "text": [
            "c:\\Data\\Canada\\Study\\masters\\CSI5195 - Ethics in AI\\Project\\.venv\\lib\\site-packages\\sklearn\\neural_network\\_multilayer_perceptron.py:691: ConvergenceWarning: Stochastic Optimizer: Maximum iterations (200) reached and the optimization hasn't converged yet.\n",
            "  warnings.warn(\n",
            "c:\\Data\\Canada\\Study\\masters\\CSI5195 - Ethics in AI\\Project\\.venv\\lib\\site-packages\\sklearn\\neural_network\\_multilayer_perceptron.py:691: ConvergenceWarning: Stochastic Optimizer: Maximum iterations (200) reached and the optimization hasn't converged yet.\n",
            "  warnings.warn(\n",
            "c:\\Data\\Canada\\Study\\masters\\CSI5195 - Ethics in AI\\Project\\.venv\\lib\\site-packages\\sklearn\\neural_network\\_multilayer_perceptron.py:691: ConvergenceWarning: Stochastic Optimizer: Maximum iterations (200) reached and the optimization hasn't converged yet.\n",
            "  warnings.warn(\n",
            "c:\\Data\\Canada\\Study\\masters\\CSI5195 - Ethics in AI\\Project\\.venv\\lib\\site-packages\\sklearn\\neural_network\\_multilayer_perceptron.py:691: ConvergenceWarning: Stochastic Optimizer: Maximum iterations (200) reached and the optimization hasn't converged yet.\n",
            "  warnings.warn(\n",
            "c:\\Data\\Canada\\Study\\masters\\CSI5195 - Ethics in AI\\Project\\.venv\\lib\\site-packages\\sklearn\\neural_network\\_multilayer_perceptron.py:691: ConvergenceWarning: Stochastic Optimizer: Maximum iterations (200) reached and the optimization hasn't converged yet.\n",
            "  warnings.warn(\n",
            "c:\\Data\\Canada\\Study\\masters\\CSI5195 - Ethics in AI\\Project\\.venv\\lib\\site-packages\\sklearn\\neural_network\\_multilayer_perceptron.py:691: ConvergenceWarning: Stochastic Optimizer: Maximum iterations (200) reached and the optimization hasn't converged yet.\n",
            "  warnings.warn(\n",
            "c:\\Data\\Canada\\Study\\masters\\CSI5195 - Ethics in AI\\Project\\.venv\\lib\\site-packages\\sklearn\\neural_network\\_multilayer_perceptron.py:691: ConvergenceWarning: Stochastic Optimizer: Maximum iterations (200) reached and the optimization hasn't converged yet.\n",
            "  warnings.warn(\n",
            "c:\\Data\\Canada\\Study\\masters\\CSI5195 - Ethics in AI\\Project\\.venv\\lib\\site-packages\\sklearn\\neural_network\\_multilayer_perceptron.py:691: ConvergenceWarning: Stochastic Optimizer: Maximum iterations (200) reached and the optimization hasn't converged yet.\n",
            "  warnings.warn(\n",
            "c:\\Data\\Canada\\Study\\masters\\CSI5195 - Ethics in AI\\Project\\.venv\\lib\\site-packages\\sklearn\\neural_network\\_multilayer_perceptron.py:691: ConvergenceWarning: Stochastic Optimizer: Maximum iterations (200) reached and the optimization hasn't converged yet.\n",
            "  warnings.warn(\n",
            "c:\\Data\\Canada\\Study\\masters\\CSI5195 - Ethics in AI\\Project\\.venv\\lib\\site-packages\\sklearn\\neural_network\\_multilayer_perceptron.py:691: ConvergenceWarning: Stochastic Optimizer: Maximum iterations (200) reached and the optimization hasn't converged yet.\n",
            "  warnings.warn(\n",
            "c:\\Data\\Canada\\Study\\masters\\CSI5195 - Ethics in AI\\Project\\.venv\\lib\\site-packages\\sklearn\\neural_network\\_multilayer_perceptron.py:691: ConvergenceWarning: Stochastic Optimizer: Maximum iterations (200) reached and the optimization hasn't converged yet.\n",
            "  warnings.warn(\n",
            "c:\\Data\\Canada\\Study\\masters\\CSI5195 - Ethics in AI\\Project\\.venv\\lib\\site-packages\\sklearn\\neural_network\\_multilayer_perceptron.py:691: ConvergenceWarning: Stochastic Optimizer: Maximum iterations (200) reached and the optimization hasn't converged yet.\n",
            "  warnings.warn(\n",
            "c:\\Data\\Canada\\Study\\masters\\CSI5195 - Ethics in AI\\Project\\.venv\\lib\\site-packages\\sklearn\\neural_network\\_multilayer_perceptron.py:691: ConvergenceWarning: Stochastic Optimizer: Maximum iterations (200) reached and the optimization hasn't converged yet.\n",
            "  warnings.warn(\n",
            "c:\\Data\\Canada\\Study\\masters\\CSI5195 - Ethics in AI\\Project\\.venv\\lib\\site-packages\\sklearn\\neural_network\\_multilayer_perceptron.py:691: ConvergenceWarning: Stochastic Optimizer: Maximum iterations (200) reached and the optimization hasn't converged yet.\n",
            "  warnings.warn(\n",
            "c:\\Data\\Canada\\Study\\masters\\CSI5195 - Ethics in AI\\Project\\.venv\\lib\\site-packages\\sklearn\\neural_network\\_multilayer_perceptron.py:691: ConvergenceWarning: Stochastic Optimizer: Maximum iterations (200) reached and the optimization hasn't converged yet.\n",
            "  warnings.warn(\n",
            "c:\\Data\\Canada\\Study\\masters\\CSI5195 - Ethics in AI\\Project\\.venv\\lib\\site-packages\\sklearn\\neural_network\\_multilayer_perceptron.py:691: ConvergenceWarning: Stochastic Optimizer: Maximum iterations (200) reached and the optimization hasn't converged yet.\n",
            "  warnings.warn(\n",
            "c:\\Data\\Canada\\Study\\masters\\CSI5195 - Ethics in AI\\Project\\.venv\\lib\\site-packages\\sklearn\\neural_network\\_multilayer_perceptron.py:691: ConvergenceWarning: Stochastic Optimizer: Maximum iterations (200) reached and the optimization hasn't converged yet.\n",
            "  warnings.warn(\n",
            "c:\\Data\\Canada\\Study\\masters\\CSI5195 - Ethics in AI\\Project\\.venv\\lib\\site-packages\\sklearn\\neural_network\\_multilayer_perceptron.py:691: ConvergenceWarning: Stochastic Optimizer: Maximum iterations (200) reached and the optimization hasn't converged yet.\n",
            "  warnings.warn(\n",
            "c:\\Data\\Canada\\Study\\masters\\CSI5195 - Ethics in AI\\Project\\.venv\\lib\\site-packages\\sklearn\\neural_network\\_multilayer_perceptron.py:691: ConvergenceWarning: Stochastic Optimizer: Maximum iterations (200) reached and the optimization hasn't converged yet.\n",
            "  warnings.warn(\n",
            "c:\\Data\\Canada\\Study\\masters\\CSI5195 - Ethics in AI\\Project\\.venv\\lib\\site-packages\\sklearn\\neural_network\\_multilayer_perceptron.py:691: ConvergenceWarning: Stochastic Optimizer: Maximum iterations (200) reached and the optimization hasn't converged yet.\n",
            "  warnings.warn(\n",
            "c:\\Data\\Canada\\Study\\masters\\CSI5195 - Ethics in AI\\Project\\.venv\\lib\\site-packages\\sklearn\\neural_network\\_multilayer_perceptron.py:691: ConvergenceWarning: Stochastic Optimizer: Maximum iterations (200) reached and the optimization hasn't converged yet.\n",
            "  warnings.warn(\n"
          ]
        },
        {
          "name": "stdout",
          "output_type": "stream",
          "text": [
            "Best parameters for model 1 (MLP): {'hidden_layer_sizes': (128,)}\n",
            "Best score for model 1 (MLP): 0.9249124446360492\n"
          ]
        },
        {
          "name": "stderr",
          "output_type": "stream",
          "text": [
            "c:\\Data\\Canada\\Study\\masters\\CSI5195 - Ethics in AI\\Project\\.venv\\lib\\site-packages\\sklearn\\neural_network\\_multilayer_perceptron.py:691: ConvergenceWarning: Stochastic Optimizer: Maximum iterations (200) reached and the optimization hasn't converged yet.\n",
            "  warnings.warn(\n"
          ]
        }
      ],
      "source": [
        "# Runtime: 60 minute\n",
        "model_1 = MLPClassifier(random_state=88)\n",
        "\n",
        "param_model_1 = {\n",
        "    'hidden_layer_sizes': [(128, 64, 32), (64, 32), (128, ), (256, 128)]\n",
        "}\n",
        "\n",
        "new_model_1 = GridSearchCV(model_1, param_model_1, cv=10, scoring='accuracy')\n",
        "new_model_1.fit(X_train_no_gender, t_train_no_gender)\n",
        "\n",
        "print(f\"Best parameters for model 1 (MLP): {new_model_1.best_params_}\")\n",
        "print(f\"Best score for model 1 (MLP): {new_model_1.best_score_}\")"
      ]
    },
    {
      "cell_type": "code",
      "execution_count": 34,
      "metadata": {
        "colab": {
          "base_uri": "https://localhost:8080/"
        },
        "id": "t78ORtAHgTnv",
        "outputId": "73043994-0989-4cd2-fb6d-48f0652bfc95"
      },
      "outputs": [
        {
          "name": "stdout",
          "output_type": "stream",
          "text": [
            "Best parameters for model 2 (MLP): {'activation': 'relu'}\n",
            "Best score for model 2 (MLP): 0.9165898868736649\n"
          ]
        }
      ],
      "source": [
        "# Runtime: 30 minute\n",
        "model_2 = MLPClassifier(max_iter=1000, random_state=88)\n",
        "\n",
        "param_model_2 = {\n",
        "    'activation': ['tanh', 'relu']\n",
        "}\n",
        "\n",
        "new_model_2 = GridSearchCV(model_2, param_model_2, cv=10, scoring='accuracy')\n",
        "new_model_2.fit(X_train_no_gender, t_train_no_gender)\n",
        "\n",
        "print(f\"Best parameters for model 2 (MLP): {new_model_2.best_params_}\")\n",
        "print(f\"Best score for model 2 (MLP): {new_model_2.best_score_}\")"
      ]
    },
    {
      "cell_type": "code",
      "execution_count": 35,
      "metadata": {
        "colab": {
          "base_uri": "https://localhost:8080/"
        },
        "id": "pVG2BJhygT_D",
        "outputId": "41ac636e-4ee7-4517-f9c6-f50d8c487412"
      },
      "outputs": [
        {
          "name": "stdout",
          "output_type": "stream",
          "text": [
            "Best parameters for model 3 (MLP): {'learning_rate_init': 0.0001}\n",
            "Best score for model 3 (MLP): 0.9376028046228388\n"
          ]
        }
      ],
      "source": [
        "# Runtime: 20 minute\n",
        "model_3 = MLPClassifier(max_iter=1000, random_state=88)\n",
        "\n",
        "param_model_3 = {\n",
        "    'learning_rate_init': [0.0001, 0.001, 0.01]\n",
        "}\n",
        "\n",
        "new_model_3 = GridSearchCV(model_3, param_model_3, cv=10, scoring='accuracy')\n",
        "new_model_3.fit(X_train_no_gender, t_train_no_gender)\n",
        "\n",
        "print(f\"Best parameters for model 3 (MLP): {new_model_3.best_params_}\")\n",
        "print(f\"Best score for model 3 (MLP): {new_model_3.best_score_}\")"
      ]
    },
    {
      "cell_type": "markdown",
      "metadata": {
        "id": "IYYuaLydgxOe"
      },
      "source": [
        "### Train Model"
      ]
    },
    {
      "cell_type": "code",
      "execution_count": 36,
      "metadata": {
        "colab": {
          "base_uri": "https://localhost:8080/",
          "height": 808
        },
        "id": "OKuBf795JWVN",
        "outputId": "12270e84-bb13-4677-aee8-0f2830d855f6"
      },
      "outputs": [
        {
          "name": "stderr",
          "output_type": "stream",
          "text": [
            "c:\\Data\\Canada\\Study\\masters\\CSI5195 - Ethics in AI\\Project\\.venv\\lib\\site-packages\\sklearn\\neural_network\\_multilayer_perceptron.py:691: ConvergenceWarning: Stochastic Optimizer: Maximum iterations (200) reached and the optimization hasn't converged yet.\n",
            "  warnings.warn(\n"
          ]
        },
        {
          "name": "stdout",
          "output_type": "stream",
          "text": [
            "Model MLP has been trained with the best parameters\n",
            "Training time: 41.67 seconds\n",
            "\n",
            "\n",
            "Overall Performance:\n",
            "Accuracy: 0.9193382655158241\n",
            "\n",
            "\n",
            "              precision    recall  f1-score   support\n",
            "\n",
            "         0.0     0.9438    0.9694    0.9564      8889\n",
            "         1.0     0.5482    0.3915    0.4567       843\n",
            "\n",
            "    accuracy                         0.9193      9732\n",
            "   macro avg     0.7460    0.6804    0.7066      9732\n",
            "weighted avg     0.9095    0.9193    0.9132      9732\n",
            "\n"
          ]
        },
        {
          "data": {
            "image/png": "[encoded data removed]",
            "text/plain": [
              "<Figure size 640x480 with 2 Axes>"
            ]
          },
          "metadata": {},
          "output_type": "display_data"
        }
      ],
      "source": [
        "final_model_1 = MLPClassifier(activation='relu', hidden_layer_sizes=(128,), learning_rate_init=0.001, random_state=88)\n",
        "\n",
        "start_time = time.time()\n",
        "final_model_1.fit(X_train_no_gender, t_train_no_gender)\n",
        "end_time = time.time()\n",
        "\n",
        "print(\"Model MLP has been trained with the best parameters\")\n",
        "print(f\"Training time: {end_time - start_time:.2f} seconds\")\n",
        "\n",
        "# Ensure the directory exists\n",
        "model_dir = os.path.join(ROOT, 'models')\n",
        "os.makedirs(model_dir, exist_ok=True)\n",
        "\n",
        "# Save the model\n",
        "joblib.dump(final_model_1, os.path.join(model_dir, 'model_general.pkl'))\n",
        "\n",
        "y_pred = final_model_1.predict(X_test_no_gender)\n",
        "\n",
        "\n",
        "print(\"\\n\")\n",
        "print(\"Overall Performance:\")\n",
        "accuracy = accuracy_score(t_test_no_gender, y_pred)\n",
        "print('Accuracy:', accuracy)\n",
        "print(\"\\n\")\n",
        "\n",
        "# f1 = f1_score(t_test_no_gender, y_pred)\n",
        "# print('F1-score:', f1)\n",
        "\n",
        "print(classification_report(t_test_no_gender, y_pred, digits=4))\n",
        "\n",
        "matrix = confusion_matrix(t_test_no_gender, y_pred, labels=[0, 1])\n",
        "disp = ConfusionMatrixDisplay(confusion_matrix=matrix, display_labels=final_model_1.classes_)\n",
        "disp.plot()\n",
        "plt.show()"
      ]
    },
    {
      "cell_type": "code",
      "execution_count": 37,
      "metadata": {
        "id": "lx4qky8IAOWO"
      },
      "outputs": [],
      "source": [
        "# Mask Creation\n",
        "male_mask = t_test_gender == 0\n",
        "female_mask = t_test_gender == 1\n",
        "\n",
        "# Male Subgroup\n",
        "t_test_male = t_test_no_gender[male_mask]\n",
        "y_pred_male = y_pred[male_mask]\n",
        "\n",
        "# Female Subgroup\n",
        "t_test_female = t_test_no_gender[female_mask]\n",
        "y_pred_female = y_pred[female_mask]"
      ]
    },
    {
      "cell_type": "code",
      "execution_count": 38,
      "metadata": {
        "colab": {
          "base_uri": "https://localhost:8080/",
          "height": 645
        },
        "id": "BwUz15n3hn6z",
        "outputId": "9787f5d8-1602-4823-c694-f72668c16f2d"
      },
      "outputs": [
        {
          "name": "stdout",
          "output_type": "stream",
          "text": [
            "Male Subgroup Performance:\n",
            "Accuracy: 0.9190469143110848\n",
            "              precision    recall  f1-score   support\n",
            "\n",
            "         0.0     0.9429    0.9700    0.9563      6165\n",
            "         1.0     0.5542    0.3885    0.4568       592\n",
            "\n",
            "    accuracy                         0.9190      6757\n",
            "   macro avg     0.7486    0.6793    0.7065      6757\n",
            "weighted avg     0.9089    0.9190    0.9125      6757\n",
            "\n"
          ]
        },
        {
          "data": {
            "image/png": "[encoded data removed]",
            "text/plain": [
              "<Figure size 640x480 with 2 Axes>"
            ]
          },
          "metadata": {},
          "output_type": "display_data"
        }
      ],
      "source": [
        "print(\"Male Subgroup Performance:\")\n",
        "accuracy = accuracy_score(t_test_male, y_pred_male)\n",
        "print('Accuracy:', accuracy)\n",
        "\n",
        "print(classification_report(t_test_male, y_pred_male, digits=4))\n",
        "\n",
        "matrix = confusion_matrix(t_test_male, y_pred_male, labels=[0, 1])\n",
        "disp = ConfusionMatrixDisplay(confusion_matrix=matrix, display_labels=final_model_1.classes_)\n",
        "disp.plot()\n",
        "plt.show()"
      ]
    },
    {
      "cell_type": "code",
      "execution_count": 39,
      "metadata": {
        "colab": {
          "base_uri": "https://localhost:8080/",
          "height": 645
        },
        "id": "OT4P_J4bh9VI",
        "outputId": "56a6e87b-6f84-4afb-d7e0-8357fae791a0"
      },
      "outputs": [
        {
          "name": "stdout",
          "output_type": "stream",
          "text": [
            "Female Subgroup Performance:\n",
            "Accuracy: 0.92\n",
            "              precision    recall  f1-score   support\n",
            "\n",
            "         0.0     0.9458    0.9681    0.9568      2724\n",
            "         1.0     0.5348    0.3984    0.4566       251\n",
            "\n",
            "    accuracy                         0.9200      2975\n",
            "   macro avg     0.7403    0.6832    0.7067      2975\n",
            "weighted avg     0.9112    0.9200    0.9146      2975\n",
            "\n"
          ]
        },
        {
          "data": {
            "image/png": "[encoded data removed]",
            "text/plain": [
              "<Figure size 640x480 with 2 Axes>"
            ]
          },
          "metadata": {},
          "output_type": "display_data"
        }
      ],
      "source": [
        "print(\"Female Subgroup Performance:\")\n",
        "accuracy = accuracy_score(t_test_female, y_pred_female)\n",
        "print('Accuracy:', accuracy)\n",
        "\n",
        "print(classification_report(t_test_female, y_pred_female, digits=4))\n",
        "\n",
        "matrix = confusion_matrix(t_test_female, y_pred_female, labels=[0, 1])\n",
        "disp = ConfusionMatrixDisplay(confusion_matrix=matrix, display_labels=final_model_1.classes_)\n",
        "disp.plot()\n",
        "plt.show()"
      ]
    },
    {
      "cell_type": "code",
      "execution_count": 40,
      "metadata": {
        "colab": {
          "base_uri": "https://localhost:8080/"
        },
        "id": "6U8VSEmihjxp",
        "outputId": "65ed3959-47b7-4cb3-c6ab-29f0cedebcbd"
      },
      "outputs": [
        {
          "name": "stdout",
          "output_type": "stream",
          "text": [
            "\n",
            " Male Subgroup Performance：\n",
            "              precision    recall  f1-score   support\n",
            "\n",
            "         0.0     0.9429    0.9700    0.9563      6165\n",
            "         1.0     0.5542    0.3885    0.4568       592\n",
            "\n",
            "    accuracy                         0.9190      6757\n",
            "   macro avg     0.7486    0.6793    0.7065      6757\n",
            "weighted avg     0.9089    0.9190    0.9125      6757\n",
            "\n",
            "\n",
            " Female Subgroup Performance：\n",
            "              precision    recall  f1-score   support\n",
            "\n",
            "         0.0     0.9458    0.9681    0.9568      2724\n",
            "         1.0     0.5348    0.3984    0.4566       251\n",
            "\n",
            "    accuracy                         0.9200      2975\n",
            "   macro avg     0.7403    0.6832    0.7067      2975\n",
            "weighted avg     0.9112    0.9200    0.9146      2975\n",
            "\n",
            "\n",
            "\n",
            "Accuracy (ACC):\n",
            "Male Accuracy: 0.9190\n",
            "Female Accuracy: 0.9200\n",
            "Accuracy Difference（Gender Gap）: 0.0010\n",
            "\n",
            "\n",
            "False Positive Rate (FPR):\n",
            "Male FPR:   0.0300\n",
            "Female FPR: 0.0319\n",
            "FPR Gender Gap: 0.0019\n",
            "\n",
            "\n",
            "False Negative Rate (FNR):\n",
            "Male FNR:   0.6115\n",
            "Female FNR: 0.6016\n",
            "FNR Gender Gap: 0.0099\n"
          ]
        }
      ],
      "source": [
        "# Subgroup Performance Comparison\n",
        "print(\"\\n Male Subgroup Performance：\")\n",
        "print(classification_report(t_test_male, y_pred_male, digits=4))\n",
        "\n",
        "print(\"\\n Female Subgroup Performance：\")\n",
        "print(classification_report(t_test_female, y_pred_female, digits=4))\n",
        "\n",
        "# accuracy\n",
        "male_acc = accuracy_score(t_test_male, y_pred_male)\n",
        "female_acc = accuracy_score(t_test_female, y_pred_female)\n",
        "\n",
        "# confusion Matrix: [TN, FP], [FN, TP]\n",
        "male_cm = confusion_matrix(t_test_male, y_pred_male)\n",
        "female_cm = confusion_matrix(t_test_female, y_pred_female)\n",
        "\n",
        "# Male FPR and FNR\n",
        "male_TN, male_FP = male_cm[0]\n",
        "male_FN, male_TP = male_cm[1]\n",
        "\n",
        "male_fpr = male_FP / (male_FP + male_TN + 1e-10)\n",
        "male_fnr = male_FN / (male_FN + male_TP + 1e-10)\n",
        "\n",
        "# Female FPR and FNR\n",
        "female_TN, female_FP = female_cm[0]\n",
        "female_FN, female_TP = female_cm[1]\n",
        "\n",
        "female_fpr = female_FP / (female_FP + female_TN + 1e-10)\n",
        "female_fnr = female_FN / (female_FN + female_TP + 1e-10)\n",
        "\n",
        "print(\"\\n\")\n",
        "print(f\"Accuracy (ACC):\")\n",
        "print(f\"Male Accuracy: {male_acc:.4f}\")\n",
        "print(f\"Female Accuracy: {female_acc:.4f}\")\n",
        "print(f\"Accuracy Difference（Gender Gap）: {abs(male_acc - female_acc):.4f}\")\n",
        "print(\"\\n\")\n",
        "print(f\"False Positive Rate (FPR):\")\n",
        "print(f\"Male FPR:   {male_fpr:.4f}\")\n",
        "print(f\"Female FPR: {female_fpr:.4f}\")\n",
        "print(f\"FPR Gender Gap: {abs(male_fpr - female_fpr):.4f}\")\n",
        "print(\"\\n\")\n",
        "print(f\"False Negative Rate (FNR):\")\n",
        "print(f\"Male FNR:   {male_fnr:.4f}\")\n",
        "print(f\"Female FNR: {female_fnr:.4f}\")\n",
        "print(f\"FNR Gender Gap: {abs(male_fnr - female_fnr):.4f}\")"
      ]
    },
    {
      "cell_type": "markdown",
      "metadata": {
        "id": "_YSWiZqx47s0"
      },
      "source": [
        "## Section 8: New approach"
      ]
    },
    {
      "cell_type": "code",
      "execution_count": 41,
      "metadata": {
        "colab": {
          "base_uri": "https://localhost:8080/"
        },
        "id": "HZFl760fCmde",
        "outputId": "6fe13b64-3f2b-4c15-a1e9-2a3962b5053a"
      },
      "outputs": [
        {
          "name": "stdout",
          "output_type": "stream",
          "text": [
            "(38928, 51)\n"
          ]
        },
        {
          "data": {
            "text/plain": [
              "['c:\\\\Data\\\\Canada\\\\Study\\\\masters\\\\CSI5195 - Ethics in AI\\\\Project\\\\models\\\\model_kmeans.pkl']"
            ]
          },
          "execution_count": 41,
          "metadata": {},
          "output_type": "execute_result"
        }
      ],
      "source": [
        "# Extract Demographic Information from Training Dataset\n",
        "X_train_demographic = X_train_norm[:, 1:52]\n",
        "print(X_train_demographic.shape)\n",
        "\n",
        "# Save the Data\n",
        "np.save(os.path.join(ROOT, \"content\", \"X_train_demographic.npy\"), X_train_demographic)\n",
        "\n",
        "# Subgroup Number\n",
        "k = 2\n",
        "\n",
        "# Build Subgroup Classfication\n",
        "model_4 = KMeans(n_clusters=k, random_state=88)\n",
        "\n",
        "# Fit Model\n",
        "cluster_labels_train = model_4.fit_predict(X_train_demographic)\n",
        "\n",
        "# Save the labels from clusters\n",
        "np.save(os.path.join(ROOT, \"content\", \"cluster_labels_train.npy\"), cluster_labels_train)\n",
        "\n",
        "joblib.dump(model_4, os.path.join(ROOT, 'models', 'model_kmeans.pkl'))"
      ]
    },
    {
      "cell_type": "code",
      "execution_count": 42,
      "metadata": {
        "colab": {
          "base_uri": "https://localhost:8080/"
        },
        "id": "mba88lT2FZJa",
        "outputId": "d5716e88-0dd5-43fb-eb46-e79ca2d57a3a"
      },
      "outputs": [
        {
          "name": "stdout",
          "output_type": "stream",
          "text": [
            "Sample number in each subgroup:\n",
            "Subgroup 0 has 15411 data\n",
            "Subgroup 1 has 23517 data\n"
          ]
        }
      ],
      "source": [
        "print(\"Sample number in each subgroup:\")\n",
        "\n",
        "for cluster_id in np.unique(cluster_labels_train):\n",
        "\n",
        "    cluster_mask = cluster_labels_train == cluster_id\n",
        "    X_cluster = X_train_norm[cluster_mask]\n",
        "    number_subgroup = len(X_cluster)\n",
        "    print(\"Subgroup \" + str(cluster_id) + \" has \" + str(number_subgroup) + \" data\")"
      ]
    },
    {
      "cell_type": "code",
      "execution_count": 43,
      "metadata": {
        "colab": {
          "base_uri": "https://localhost:8080/"
        },
        "id": "QQVEyuBFC76s",
        "outputId": "fede4d08-766b-40e3-8b67-41def4a2bff3"
      },
      "outputs": [
        {
          "name": "stdout",
          "output_type": "stream",
          "text": [
            "Subgroup 0 has 15411 data\n"
          ]
        },
        {
          "name": "stderr",
          "output_type": "stream",
          "text": [
            "c:\\Data\\Canada\\Study\\masters\\CSI5195 - Ethics in AI\\Project\\.venv\\lib\\site-packages\\sklearn\\neural_network\\_multilayer_perceptron.py:691: ConvergenceWarning: Stochastic Optimizer: Maximum iterations (200) reached and the optimization hasn't converged yet.\n",
            "  warnings.warn(\n"
          ]
        },
        {
          "name": "stdout",
          "output_type": "stream",
          "text": [
            "Cluster 0 is trained by using 15411 data\n",
            "\n",
            "\n",
            "Subgroup 1 has 23517 data\n",
            "Cluster 1 is trained by using 23517 data\n",
            "\n",
            "\n"
          ]
        },
        {
          "name": "stderr",
          "output_type": "stream",
          "text": [
            "c:\\Data\\Canada\\Study\\masters\\CSI5195 - Ethics in AI\\Project\\.venv\\lib\\site-packages\\sklearn\\neural_network\\_multilayer_perceptron.py:691: ConvergenceWarning: Stochastic Optimizer: Maximum iterations (200) reached and the optimization hasn't converged yet.\n",
            "  warnings.warn(\n"
          ]
        }
      ],
      "source": [
        "cluster_models = {}\n",
        "\n",
        "for cluster_id in np.unique(cluster_labels_train):\n",
        "\n",
        "\n",
        "    cluster_mask = cluster_labels_train == cluster_id\n",
        "\n",
        "    X_cluster = X_train_no_gender[cluster_mask]\n",
        "    y_cluster = t_train_no_gender[cluster_mask]\n",
        "    number_subgroup = len(X_cluster)\n",
        "\n",
        "    print(\"Subgroup \" + str(cluster_id) + \" has \" + str(number_subgroup) + \" data\")\n",
        "\n",
        "    # train MLP for each subgroup\n",
        "    subgroup_model_1 = MLPClassifier(activation='relu', hidden_layer_sizes=(128,), learning_rate_init=0.001, random_state=88)\n",
        "    subgroup_model_1.fit(X_cluster, y_cluster)\n",
        "\n",
        "    # save model\n",
        "    cluster_models[cluster_id] = subgroup_model_1\n",
        "    print(f\"Cluster {cluster_id} is trained by using {X_cluster.shape[0]} data\")\n",
        "    print(\"\\n\")"
      ]
    },
    {
      "cell_type": "code",
      "execution_count": 44,
      "metadata": {
        "id": "ukW_Vo-7Dgdw"
      },
      "outputs": [],
      "source": [
        "X_test_demographic = X_test_norm[:, 1:52]\n",
        "np.save(os.path.join(ROOT, \"content\", \"X_test_demographic.npy\"), X_test_demographic)\n",
        "cluster_labels_test = model_4.predict(X_test_demographic)\n",
        "\n",
        "\n",
        "y_pred_clustered = np.zeros_like(t_test_no_gender)\n",
        "\n",
        "\n",
        "for cluster_id in np.unique(cluster_labels_test):\n",
        "\n",
        "    cluster_mask_1 = cluster_labels_test == cluster_id\n",
        "\n",
        "    X_cluster_test = X_test_no_gender[cluster_mask_1]\n",
        "\n",
        "\n",
        "    classification_model = cluster_models[cluster_id]\n",
        "\n",
        "    # Save the model\n",
        "    joblib.dump(classification_model, os.path.join(ROOT, 'models', f'model_cluster_{cluster_id}_kmeans.pkl'))\n",
        "\n",
        "    y_pred_1 = classification_model.predict(X_cluster_test)\n",
        "\n",
        "    y_pred_clustered[cluster_mask_1] = y_pred_1"
      ]
    },
    {
      "cell_type": "code",
      "execution_count": 45,
      "metadata": {
        "colab": {
          "base_uri": "https://localhost:8080/"
        },
        "id": "0YIWIpz0KxaJ",
        "outputId": "87c87bfa-270f-4aad-ec73-d7e92f4a5c91"
      },
      "outputs": [
        {
          "name": "stdout",
          "output_type": "stream",
          "text": [
            "(9732,)\n",
            "(9732,)\n"
          ]
        }
      ],
      "source": [
        "print(y_pred_clustered.shape)\n",
        "print(t_test_no_gender.shape)"
      ]
    },
    {
      "cell_type": "code",
      "execution_count": 46,
      "metadata": {
        "colab": {
          "base_uri": "https://localhost:8080/",
          "height": 717
        },
        "id": "8GabV6evK1aI",
        "outputId": "42127b78-0cf4-46d3-a534-0e5646352155"
      },
      "outputs": [
        {
          "name": "stdout",
          "output_type": "stream",
          "text": [
            "\n",
            "\n",
            "Overall Performance:\n",
            "Accuracy: 0.9260172626387176\n",
            "\n",
            "\n",
            "              precision    recall  f1-score   support\n",
            "\n",
            "         0.0     0.9429    0.9783    0.9602      8889\n",
            "         1.0     0.6208    0.3749    0.4675       843\n",
            "\n",
            "    accuracy                         0.9260      9732\n",
            "   macro avg     0.7818    0.6766    0.7139      9732\n",
            "weighted avg     0.9150    0.9260    0.9176      9732\n",
            "\n"
          ]
        },
        {
          "data": {
            "image/png": "[encoded data removed]",
            "text/plain": [
              "<Figure size 640x480 with 2 Axes>"
            ]
          },
          "metadata": {},
          "output_type": "display_data"
        }
      ],
      "source": [
        "print(\"\\n\")\n",
        "print(\"Overall Performance:\")\n",
        "accuracy = accuracy_score(t_test_no_gender, y_pred_clustered)\n",
        "print('Accuracy:', accuracy)\n",
        "print(\"\\n\")\n",
        "\n",
        "# f1 = f1_score(t_test_no_gender, y_pred)\n",
        "# print('F1-score:', f1)\n",
        "\n",
        "print(classification_report(t_test_no_gender, y_pred_clustered, digits=4))\n",
        "\n",
        "matrix = confusion_matrix(t_test_no_gender, y_pred_clustered, labels=[0, 1])\n",
        "disp = ConfusionMatrixDisplay(confusion_matrix=matrix, display_labels=final_model_1.classes_)\n",
        "disp.plot()\n",
        "plt.show()"
      ]
    },
    {
      "cell_type": "code",
      "execution_count": 47,
      "metadata": {
        "id": "6jDJJldLLHOI"
      },
      "outputs": [],
      "source": [
        "# Mask Creation\n",
        "male_mask = t_test_gender == 0\n",
        "female_mask = t_test_gender == 1\n",
        "\n",
        "# Male Subgroup\n",
        "t_test_male = t_test_no_gender[male_mask]\n",
        "y_pred_male = y_pred_clustered[male_mask]\n",
        "\n",
        "# Female Subgroup\n",
        "t_test_female = t_test_no_gender[female_mask]\n",
        "y_pred_female = y_pred_clustered[female_mask]"
      ]
    },
    {
      "cell_type": "code",
      "execution_count": 48,
      "metadata": {
        "colab": {
          "base_uri": "https://localhost:8080/",
          "height": 649
        },
        "id": "sUvSbEjILHje",
        "outputId": "6c26efe0-b031-410c-d16f-fe7d15abd610"
      },
      "outputs": [
        {
          "name": "stdout",
          "output_type": "stream",
          "text": [
            "Male Subgroup Performance:\n",
            "Accuracy: 0.9264466479206749\n",
            "              precision    recall  f1-score   support\n",
            "\n",
            "         0.0     0.9430    0.9786    0.9604      6165\n",
            "         1.0     0.6323    0.3834    0.4774       592\n",
            "\n",
            "    accuracy                         0.9264      6757\n",
            "   macro avg     0.7876    0.6810    0.7189      6757\n",
            "weighted avg     0.9157    0.9264    0.9181      6757\n",
            "\n"
          ]
        },
        {
          "data": {
            "image/png": "[encoded data removed]",
            "text/plain": [
              "<Figure size 640x480 with 2 Axes>"
            ]
          },
          "metadata": {},
          "output_type": "display_data"
        }
      ],
      "source": [
        "print(\"Male Subgroup Performance:\")\n",
        "accuracy = accuracy_score(t_test_male, y_pred_male)\n",
        "print('Accuracy:', accuracy)\n",
        "\n",
        "print(classification_report(t_test_male, y_pred_male, digits=4))\n",
        "\n",
        "matrix = confusion_matrix(t_test_male, y_pred_male, labels=[0, 1])\n",
        "disp = ConfusionMatrixDisplay(confusion_matrix=matrix, display_labels=final_model_1.classes_)\n",
        "disp.plot()\n",
        "plt.show()"
      ]
    },
    {
      "cell_type": "code",
      "execution_count": 49,
      "metadata": {
        "colab": {
          "base_uri": "https://localhost:8080/",
          "height": 645
        },
        "id": "9k21n0_FLH7i",
        "outputId": "2b9c6852-10eb-4e02-d15e-a456ea1fadb5"
      },
      "outputs": [
        {
          "name": "stdout",
          "output_type": "stream",
          "text": [
            "Female Subgroup Performance:\n",
            "Accuracy: 0.9250420168067227\n",
            "              precision    recall  f1-score   support\n",
            "\n",
            "         0.0     0.9427    0.9776    0.9598      2724\n",
            "         1.0     0.5933    0.3546    0.4439       251\n",
            "\n",
            "    accuracy                         0.9250      2975\n",
            "   macro avg     0.7680    0.6661    0.7019      2975\n",
            "weighted avg     0.9132    0.9250    0.9163      2975\n",
            "\n"
          ]
        },
        {
          "data": {
            "image/png": "[encoded data removed]",
            "text/plain": [
              "<Figure size 640x480 with 2 Axes>"
            ]
          },
          "metadata": {},
          "output_type": "display_data"
        }
      ],
      "source": [
        "print(\"Female Subgroup Performance:\")\n",
        "accuracy = accuracy_score(t_test_female, y_pred_female)\n",
        "print('Accuracy:', accuracy)\n",
        "\n",
        "print(classification_report(t_test_female, y_pred_female, digits=4))\n",
        "\n",
        "matrix = confusion_matrix(t_test_female, y_pred_female, labels=[0, 1])\n",
        "disp = ConfusionMatrixDisplay(confusion_matrix=matrix, display_labels=final_model_1.classes_)\n",
        "disp.plot()\n",
        "plt.show()"
      ]
    },
    {
      "cell_type": "code",
      "execution_count": 50,
      "metadata": {
        "colab": {
          "base_uri": "https://localhost:8080/"
        },
        "id": "4CqlU1zILObL",
        "outputId": "59659333-1d82-4bfb-8b27-506956dcd0ec"
      },
      "outputs": [
        {
          "name": "stdout",
          "output_type": "stream",
          "text": [
            "\n",
            " Male Subgroup Performance：\n",
            "              precision    recall  f1-score   support\n",
            "\n",
            "         0.0     0.9430    0.9786    0.9604      6165\n",
            "         1.0     0.6323    0.3834    0.4774       592\n",
            "\n",
            "    accuracy                         0.9264      6757\n",
            "   macro avg     0.7876    0.6810    0.7189      6757\n",
            "weighted avg     0.9157    0.9264    0.9181      6757\n",
            "\n",
            "\n",
            " Female Subgroup Performance：\n",
            "              precision    recall  f1-score   support\n",
            "\n",
            "         0.0     0.9427    0.9776    0.9598      2724\n",
            "         1.0     0.5933    0.3546    0.4439       251\n",
            "\n",
            "    accuracy                         0.9250      2975\n",
            "   macro avg     0.7680    0.6661    0.7019      2975\n",
            "weighted avg     0.9132    0.9250    0.9163      2975\n",
            "\n",
            "\n",
            "\n",
            "Accuracy (ACC):\n",
            "Male Accuracy: 0.9264\n",
            "Female Accuracy: 0.9250\n",
            "Accuracy Difference（Gender Gap）: 0.0014\n",
            "\n",
            "\n",
            "False Positive Rate (FPR):\n",
            "Male FPR:   0.0214\n",
            "Female FPR: 0.0224\n",
            "FPR Gender Gap: 0.0010\n",
            "\n",
            "\n",
            "False Negative Rate (FNR):\n",
            "Male FNR:   0.6166\n",
            "Female FNR: 0.6454\n",
            "FNR Gender Gap: 0.0289\n"
          ]
        }
      ],
      "source": [
        "# Subgroup Performance Comparison\n",
        "print(\"\\n Male Subgroup Performance：\")\n",
        "print(classification_report(t_test_male, y_pred_male, digits=4))\n",
        "\n",
        "print(\"\\n Female Subgroup Performance：\")\n",
        "print(classification_report(t_test_female, y_pred_female, digits=4))\n",
        "\n",
        "# accuracy\n",
        "male_acc = accuracy_score(t_test_male, y_pred_male)\n",
        "female_acc = accuracy_score(t_test_female, y_pred_female)\n",
        "\n",
        "# confusion Matrix: [TN, FP], [FN, TP]\n",
        "male_cm = confusion_matrix(t_test_male, y_pred_male)\n",
        "female_cm = confusion_matrix(t_test_female, y_pred_female)\n",
        "\n",
        "# Male FPR and FNR\n",
        "male_TN, male_FP = male_cm[0]\n",
        "male_FN, male_TP = male_cm[1]\n",
        "\n",
        "male_fpr = male_FP / (male_FP + male_TN + 1e-10)\n",
        "male_fnr = male_FN / (male_FN + male_TP + 1e-10)\n",
        "\n",
        "# Female FPR and FNR\n",
        "female_TN, female_FP = female_cm[0]\n",
        "female_FN, female_TP = female_cm[1]\n",
        "\n",
        "female_fpr = female_FP / (female_FP + female_TN + 1e-10)\n",
        "female_fnr = female_FN / (female_FN + female_TP + 1e-10)\n",
        "\n",
        "print(\"\\n\")\n",
        "print(f\"Accuracy (ACC):\")\n",
        "print(f\"Male Accuracy: {male_acc:.4f}\")\n",
        "print(f\"Female Accuracy: {female_acc:.4f}\")\n",
        "print(f\"Accuracy Difference（Gender Gap）: {abs(male_acc - female_acc):.4f}\")\n",
        "print(\"\\n\")\n",
        "print(f\"False Positive Rate (FPR):\")\n",
        "print(f\"Male FPR:   {male_fpr:.4f}\")\n",
        "print(f\"Female FPR: {female_fpr:.4f}\")\n",
        "print(f\"FPR Gender Gap: {abs(male_fpr - female_fpr):.4f}\")\n",
        "print(\"\\n\")\n",
        "print(f\"False Negative Rate (FNR):\")\n",
        "print(f\"Male FNR:   {male_fnr:.4f}\")\n",
        "print(f\"Female FNR: {female_fnr:.4f}\")\n",
        "print(f\"FNR Gender Gap: {abs(male_fnr - female_fnr):.4f}\")"
      ]
    },
    {
      "cell_type": "markdown",
      "metadata": {
        "id": "OPdurQpv6hSw"
      },
      "source": [
        "## Section 9: Out-of-Distribution Example part 1"
      ]
    },
    {
      "cell_type": "code",
      "execution_count": 51,
      "metadata": {
        "id": "84w3UFAy6hSw"
      },
      "outputs": [],
      "source": [
        "X_train, X_test, t_train, t_test = train_test_split(data_total, output_Y, test_size=0.2, random_state=66)\n",
        "\n",
        "# female: 1      male: 0\n",
        "X_train[:, 0] = (X_train[:, 0] == 'f').astype(int)\n",
        "t_train[:, 0] = (t_train[:, 0] == 'f').astype(int)\n",
        "\n",
        "X_test[:, 0] = (X_test[:, 0] == 'f').astype(int)\n",
        "t_test[:, 0] = (t_test[:, 0] == 'f').astype(int)"
      ]
    },
    {
      "cell_type": "code",
      "execution_count": 52,
      "metadata": {
        "colab": {
          "base_uri": "https://localhost:8080/"
        },
        "id": "kPaIBDie60XA",
        "outputId": "bc20582b-2ed1-4a73-a03d-cf7bac1d418e"
      },
      "outputs": [
        {
          "name": "stdout",
          "output_type": "stream",
          "text": [
            "New Training Dataset Shape:\n",
            "X_train_modified: (37928, 105), t_train_modified: (37928, 2)\n"
          ]
        }
      ],
      "source": [
        "female_promoted_mask = (t_train[:, 0] == 1) & (t_train[:, 1].astype(int) == 1)  #boolean value\n",
        "female_promoted_indices = np.where(female_promoted_mask)[0]   # 1112 length\n",
        "\n",
        "np.random.seed(18)\n",
        "indices_to_remove = np.random.choice(female_promoted_indices, size=1000, replace=False)\n",
        "\n",
        "\n",
        "X_train_modified = np.delete(X_train, indices_to_remove, axis=0)\n",
        "t_train_modified = np.delete(t_train, indices_to_remove, axis=0)\n",
        "\n",
        "print(\"New Training Dataset Shape:\")\n",
        "print(f\"X_train_modified: {X_train_modified.shape}, t_train_modified: {t_train_modified.shape}\")"
      ]
    },
    {
      "cell_type": "code",
      "execution_count": 53,
      "metadata": {
        "colab": {
          "base_uri": "https://localhost:8080/"
        },
        "id": "ZuW83rin6hSx",
        "outputId": "9a58528c-5abf-44c4-8dd5-5a945d1cbfd0"
      },
      "outputs": [
        {
          "name": "stdout",
          "output_type": "stream",
          "text": [
            "[6.85072707e-16 2.47054480e-18]\n",
            "[1. 1.]\n",
            "[0.01686809 0.0170799 ]\n",
            "[1.01401958 1.00256678]\n"
          ]
        }
      ],
      "source": [
        "mean = X_train_modified[:, 2:4].astype(float).mean(axis=0)\n",
        "std  = X_train_modified[:, 2:4].astype(float).std(axis=0)\n",
        "\n",
        "X_train_norm = X_train_modified.copy()\n",
        "X_test_norm = X_test.copy()\n",
        "\n",
        "X_train_norm[:, 2:4] = (X_train_modified[:, 2:4] - mean) / std\n",
        "X_test_norm[:, 2:4] = (X_test[:, 2:4] - mean) / std\n",
        "\n",
        "\n",
        "print(X_train_norm[:, 2:4].astype(float).mean(axis=0)) # Should be all very close to 0\n",
        "print(X_train_norm[:, 2:4].astype(float).std(axis=0))  # Should be all very close to 1\n",
        "print(X_test_norm[:, 2:4].astype(float).mean(axis=0)) # Should be close to 0\n",
        "print(X_test_norm[:, 2:4].astype(float).std(axis=0))  # Should be close to 1"
      ]
    },
    {
      "cell_type": "code",
      "execution_count": 54,
      "metadata": {
        "colab": {
          "base_uri": "https://localhost:8080/"
        },
        "id": "f9kCtkaB6hSx",
        "outputId": "131172fd-4dda-4b8a-f24e-ff63eb40a337"
      },
      "outputs": [
        {
          "name": "stdout",
          "output_type": "stream",
          "text": [
            "(37928, 105)\n",
            "(9732, 105)\n",
            "(37928, 2)\n",
            "(9732, 2)\n",
            "\n",
            "\n",
            "(37928, 104)\n",
            "(9732, 104)\n",
            "\n",
            "\n",
            "(37928,)\n",
            "(9732,)\n",
            "(37928,)\n",
            "(9732,)\n"
          ]
        }
      ],
      "source": [
        "X_train_no_gender = X_train_norm[:, 1:].astype(float)\n",
        "X_test_no_gender = X_test_norm[:, 1:].astype(float)\n",
        "\n",
        "t_train_gender = t_train_modified[:, 0].astype(float)\n",
        "t_test_gender  = t_test[:, 0].astype(float)\n",
        "\n",
        "t_train_no_gender = t_train_modified[:, 1].astype(float)\n",
        "t_test_no_gender = t_test[:, 1].astype(float)\n",
        "\n",
        "print(X_train_norm.shape)\n",
        "print(X_test_norm.shape)\n",
        "print(t_train_modified.shape)\n",
        "print(t_test.shape)\n",
        "\n",
        "print(\"\\n\")\n",
        "print(X_train_no_gender.shape)\n",
        "print(X_test_no_gender.shape)\n",
        "\n",
        "print(\"\\n\")\n",
        "print(t_train_gender.shape)\n",
        "print(t_test_gender.shape)\n",
        "print(t_train_no_gender.shape)\n",
        "print(t_test_no_gender.shape)"
      ]
    },
    {
      "cell_type": "code",
      "execution_count": 55,
      "metadata": {
        "colab": {
          "base_uri": "https://localhost:8080/"
        },
        "id": "dTa0kXCr6hSx",
        "outputId": "d0a72853-84b9-4814-c65c-b47053832398"
      },
      "outputs": [
        {
          "name": "stdout",
          "output_type": "stream",
          "text": [
            "False\n",
            "False\n",
            "False\n",
            "False\n",
            "False\n",
            "False\n",
            "False\n",
            "False\n"
          ]
        }
      ],
      "source": [
        "print(np.isnan(X_train_no_gender).any())\n",
        "print(np.isinf(X_train_no_gender).any())\n",
        "print(np.isnan(X_test_no_gender).any())\n",
        "print(np.isinf(X_test_no_gender).any())\n",
        "\n",
        "print(np.isnan(t_train_no_gender).any())\n",
        "print(np.isinf(t_train_no_gender).any())\n",
        "print(np.isnan(t_test_no_gender).any())\n",
        "print(np.isinf(t_test_no_gender).any())"
      ]
    },
    {
      "cell_type": "code",
      "execution_count": 56,
      "metadata": {
        "colab": {
          "base_uri": "https://localhost:8080/"
        },
        "id": "-jm2UsPE6hSx",
        "outputId": "1b582045-34d6-4be8-a1eb-8d98a0d457cc"
      },
      "outputs": [
        {
          "name": "stdout",
          "output_type": "stream",
          "text": [
            "[[ 1.          0.05682405  0.95566671 ...  0.          1.\n",
            "   0.        ]\n",
            " [ 1.         -0.20887559  0.42545992 ...  0.          1.\n",
            "   0.        ]\n",
            " [ 1.          0.4553735  -0.93792898 ...  0.          1.\n",
            "   0.        ]\n",
            " ...\n",
            " [ 1.          0.72107314 -0.02900305 ...  0.          1.\n",
            "   0.        ]\n",
            " [ 1.         -0.47457522  1.4858735  ...  0.          1.\n",
            "   0.        ]\n",
            " [ 1.         -1.00597449  1.63736115 ...  0.          1.\n",
            "   0.        ]]\n",
            "[1. 0. 0. ... 1. 0. 1.]\n",
            "[0. 0. 0. ... 0. 0. 0.]\n"
          ]
        }
      ],
      "source": [
        "print(X_train_no_gender)\n",
        "print(t_train_gender)\n",
        "print(t_train_no_gender)"
      ]
    },
    {
      "cell_type": "code",
      "execution_count": 57,
      "metadata": {
        "colab": {
          "base_uri": "https://localhost:8080/"
        },
        "id": "Y1_Yvulv6hSx",
        "outputId": "0f607745-8e93-4d0d-c35c-8e6c7a0cbd22"
      },
      "outputs": [
        {
          "name": "stdout",
          "output_type": "stream",
          "text": [
            "[[ 1.         -0.07602577 -0.1804907  ...  0.          1.\n",
            "   0.        ]\n",
            " [ 1.         -0.74027486  0.50120374 ...  0.          1.\n",
            "   0.        ]\n",
            " [ 1.         -0.60742504 -1.0136728  ...  0.          1.\n",
            "   0.        ]\n",
            " ...\n",
            " [ 1.         -0.74027486 -0.71069749 ...  0.          1.\n",
            "   0.        ]\n",
            " [ 1.         -1.53737377 -1.16516046 ...  0.          1.\n",
            "   0.        ]\n",
            " [ 1.         -0.87312468  1.86459264 ...  0.          1.\n",
            "   0.        ]]\n",
            "[0. 0. 0. ... 0. 0. 0.]\n",
            "[0. 0. 0. ... 0. 0. 1.]\n"
          ]
        }
      ],
      "source": [
        "print(X_test_no_gender)\n",
        "print(t_test_gender)\n",
        "print(t_test_no_gender)"
      ]
    },
    {
      "cell_type": "code",
      "execution_count": 58,
      "metadata": {
        "colab": {
          "base_uri": "https://localhost:8080/"
        },
        "id": "bXBaf2kH6hSy",
        "outputId": "e25d276d-fb58-4615-e659-c4fb9f177d82"
      },
      "outputs": [
        {
          "name": "stdout",
          "output_type": "stream",
          "text": [
            "is_promoted vs Gender (Male):\n",
            "is_promoted\n",
            "0.0    24818\n",
            "1.0     2277\n",
            "Name: count, dtype: int64\n",
            "\n",
            "is_promoted vs Gender (Female):\n",
            "is_promoted\n",
            "0.0    10721\n",
            "1.0      112\n",
            "Name: count, dtype: int64\n",
            "\n",
            "gender vs class 0 (No Promoted):\n",
            "gender\n",
            "0    24818\n",
            "1    10721\n",
            "Name: count, dtype: int64\n",
            "\n",
            "gender vs class 1 (Promoted):\n",
            "gender\n",
            "0    2277\n",
            "1     112\n",
            "Name: count, dtype: int64\n"
          ]
        }
      ],
      "source": [
        "new_df_0 = pd.DataFrame({\n",
        "    'gender': X_train_norm[:, 0],\n",
        "    'is_promoted': t_train_no_gender\n",
        "})\n",
        "\n",
        "# Promotion Distribution in Train Dataset\n",
        "print(\"is_promoted vs Gender (Male):\")\n",
        "print(new_df_0[new_df_0['gender'] == 0]['is_promoted'].value_counts())\n",
        "\n",
        "print(\"\\nis_promoted vs Gender (Female):\")\n",
        "print(new_df_0[new_df_0['gender'] == 1]['is_promoted'].value_counts())\n",
        "\n",
        "# Gender Distribution in Train Dataset\n",
        "print(\"\\ngender vs class 0 (No Promoted):\")\n",
        "print(new_df_0[new_df_0['is_promoted'] == 0]['gender'].value_counts())\n",
        "\n",
        "print(\"\\ngender vs class 1 (Promoted):\")\n",
        "print(new_df_0[new_df_0['is_promoted'] == 1]['gender'].value_counts())"
      ]
    },
    {
      "cell_type": "code",
      "execution_count": 59,
      "metadata": {
        "colab": {
          "base_uri": "https://localhost:8080/"
        },
        "id": "NCWvTcTg6hSy",
        "outputId": "9a302905-9cc6-4bd9-bcf4-c5fb6e47d0b7"
      },
      "outputs": [
        {
          "name": "stdout",
          "output_type": "stream",
          "text": [
            "is_promoted vs Gender (Male):\n",
            "is_promoted\n",
            "0.0    6165\n",
            "1.0     592\n",
            "Name: count, dtype: int64\n",
            "\n",
            "is_promoted vs Gender (Female):\n",
            "is_promoted\n",
            "0.0    2724\n",
            "1.0     251\n",
            "Name: count, dtype: int64\n",
            "\n",
            "gender vs class 0 (No Promoted):\n",
            "gender\n",
            "0    6165\n",
            "1    2724\n",
            "Name: count, dtype: int64\n",
            "\n",
            "gender vs class 1 (Promoted):\n",
            "gender\n",
            "0    592\n",
            "1    251\n",
            "Name: count, dtype: int64\n"
          ]
        }
      ],
      "source": [
        "new_df_1 = pd.DataFrame({\n",
        "    'gender': X_test_norm[:, 0],\n",
        "    'is_promoted': t_test_no_gender\n",
        "})\n",
        "\n",
        "# Promotion Distribution in Test Dataset\n",
        "print(\"is_promoted vs Gender (Male):\")\n",
        "print(new_df_1[new_df_1['gender'] == 0]['is_promoted'].value_counts())\n",
        "\n",
        "print(\"\\nis_promoted vs Gender (Female):\")\n",
        "print(new_df_1[new_df_1['gender'] == 1]['is_promoted'].value_counts())\n",
        "\n",
        "# Gender Distribution in Test Dataset\n",
        "print(\"\\ngender vs class 0 (No Promoted):\")\n",
        "print(new_df_1[new_df_1['is_promoted'] == 0]['gender'].value_counts())\n",
        "\n",
        "print(\"\\ngender vs class 1 (Promoted):\")\n",
        "print(new_df_1[new_df_1['is_promoted'] == 1]['gender'].value_counts())"
      ]
    },
    {
      "cell_type": "markdown",
      "metadata": {
        "id": "WQLXtTj372_R"
      },
      "source": [
        "## Section 9: Out-of-Distribution Example part 2"
      ]
    },
    {
      "cell_type": "code",
      "execution_count": 60,
      "metadata": {
        "id": "Ls77GIP-7-_W"
      },
      "outputs": [],
      "source": [
        "# Train Model"
      ]
    },
    {
      "cell_type": "code",
      "execution_count": 61,
      "metadata": {
        "colab": {
          "base_uri": "https://localhost:8080/",
          "height": 808
        },
        "id": "dnddhvWI7-_W",
        "outputId": "e6872340-1080-415a-a034-ac647d0953e3"
      },
      "outputs": [
        {
          "name": "stderr",
          "output_type": "stream",
          "text": [
            "c:\\Data\\Canada\\Study\\masters\\CSI5195 - Ethics in AI\\Project\\.venv\\lib\\site-packages\\sklearn\\neural_network\\_multilayer_perceptron.py:691: ConvergenceWarning: Stochastic Optimizer: Maximum iterations (200) reached and the optimization hasn't converged yet.\n",
            "  warnings.warn(\n"
          ]
        },
        {
          "name": "stdout",
          "output_type": "stream",
          "text": [
            "Model MLP has been trained with the best parameters\n",
            "Training time: 41.78 seconds\n",
            "\n",
            "\n",
            "Overall Performance:\n",
            "Accuracy: 0.9182079736950267\n",
            "\n",
            "\n",
            "              precision    recall  f1-score   support\n",
            "\n",
            "         0.0     0.9402    0.9723    0.9560      8889\n",
            "         1.0     0.5436    0.3476    0.4240       843\n",
            "\n",
            "    accuracy                         0.9182      9732\n",
            "   macro avg     0.7419    0.6599    0.6900      9732\n",
            "weighted avg     0.9058    0.9182    0.9099      9732\n",
            "\n"
          ]
        },
        {
          "data": {
            "image/png": "[encoded data removed]",
            "text/plain": [
              "<Figure size 640x480 with 2 Axes>"
            ]
          },
          "metadata": {},
          "output_type": "display_data"
        }
      ],
      "source": [
        "final_model_10 = MLPClassifier(activation='relu', hidden_layer_sizes=(128,), learning_rate_init=0.001, random_state=88)\n",
        "\n",
        "start_time = time.time()\n",
        "final_model_10.fit(X_train_norm, t_train_no_gender)\n",
        "end_time = time.time()\n",
        "\n",
        "joblib.dump(final_model_10, os.path.join(ROOT, 'models', 'model_OOD.pkl'))\n",
        "\n",
        "print(\"Model MLP has been trained with the best parameters\")\n",
        "print(f\"Training time: {end_time - start_time:.2f} seconds\")\n",
        "\n",
        "y_pred = final_model_10.predict(X_test_norm)\n",
        "\n",
        "\n",
        "print(\"\\n\")\n",
        "print(\"Overall Performance:\")\n",
        "accuracy = accuracy_score(t_test_no_gender, y_pred)\n",
        "print('Accuracy:', accuracy)\n",
        "print(\"\\n\")\n",
        "\n",
        "# f1 = f1_score(t_test_no_gender, y_pred)\n",
        "# print('F1-score:', f1)\n",
        "\n",
        "print(classification_report(t_test_no_gender, y_pred, digits=4))\n",
        "\n",
        "matrix = confusion_matrix(t_test_no_gender, y_pred, labels=[0, 1])\n",
        "disp = ConfusionMatrixDisplay(confusion_matrix=matrix, display_labels=final_model_10.classes_)\n",
        "disp.plot()\n",
        "plt.show()"
      ]
    },
    {
      "cell_type": "code",
      "execution_count": 62,
      "metadata": {
        "id": "g6k3CisF7-_W"
      },
      "outputs": [],
      "source": [
        "# Mask Creation\n",
        "male_mask = t_test_gender == 0\n",
        "female_mask = t_test_gender == 1\n",
        "\n",
        "# Male Subgroup\n",
        "t_test_male = t_test_no_gender[male_mask]\n",
        "y_pred_male = y_pred[male_mask]\n",
        "\n",
        "# Female Subgroup\n",
        "t_test_female = t_test_no_gender[female_mask]\n",
        "y_pred_female = y_pred[female_mask]"
      ]
    },
    {
      "cell_type": "code",
      "execution_count": 63,
      "metadata": {
        "colab": {
          "base_uri": "https://localhost:8080/",
          "height": 645
        },
        "id": "OZwKIy3O7-_W",
        "outputId": "7d4bf2cc-1f99-420d-8f71-263f64f17ce4"
      },
      "outputs": [
        {
          "name": "stdout",
          "output_type": "stream",
          "text": [
            "Male Subgroup Performance:\n",
            "Accuracy: 0.9107592126683439\n",
            "              precision    recall  f1-score   support\n",
            "\n",
            "         0.0     0.9421    0.9612    0.9516      6165\n",
            "         1.0     0.4882    0.3851    0.4306       592\n",
            "\n",
            "    accuracy                         0.9108      6757\n",
            "   macro avg     0.7152    0.6732    0.6911      6757\n",
            "weighted avg     0.9024    0.9108    0.9059      6757\n",
            "\n"
          ]
        },
        {
          "data": {
            "image/png": "[encoded data removed]",
            "text/plain": [
              "<Figure size 640x480 with 2 Axes>"
            ]
          },
          "metadata": {},
          "output_type": "display_data"
        }
      ],
      "source": [
        "print(\"Male Subgroup Performance:\")\n",
        "accuracy = accuracy_score(t_test_male, y_pred_male)\n",
        "print('Accuracy:', accuracy)\n",
        "\n",
        "print(classification_report(t_test_male, y_pred_male, digits=4))\n",
        "\n",
        "matrix = confusion_matrix(t_test_male, y_pred_male, labels=[0, 1])\n",
        "disp = ConfusionMatrixDisplay(confusion_matrix=matrix, display_labels=final_model_1.classes_)\n",
        "disp.plot()\n",
        "plt.show()"
      ]
    },
    {
      "cell_type": "code",
      "execution_count": 64,
      "metadata": {
        "colab": {
          "base_uri": "https://localhost:8080/",
          "height": 645
        },
        "id": "p4T0PyJn7-_W",
        "outputId": "51bed59b-0799-486d-9426-83d70800ac06"
      },
      "outputs": [
        {
          "name": "stdout",
          "output_type": "stream",
          "text": [
            "Female Subgroup Performance:\n",
            "Accuracy: 0.935126050420168\n",
            "              precision    recall  f1-score   support\n",
            "\n",
            "         0.0     0.9359    0.9974    0.9657      2724\n",
            "         1.0     0.9028    0.2590    0.4025       251\n",
            "\n",
            "    accuracy                         0.9351      2975\n",
            "   macro avg     0.9194    0.6282    0.6841      2975\n",
            "weighted avg     0.9331    0.9351    0.9182      2975\n",
            "\n"
          ]
        },
        {
          "data": {
            "image/png": "[encoded data removed]",
            "text/plain": [
              "<Figure size 640x480 with 2 Axes>"
            ]
          },
          "metadata": {},
          "output_type": "display_data"
        }
      ],
      "source": [
        "print(\"Female Subgroup Performance:\")\n",
        "accuracy = accuracy_score(t_test_female, y_pred_female)\n",
        "print('Accuracy:', accuracy)\n",
        "\n",
        "print(classification_report(t_test_female, y_pred_female, digits=4))\n",
        "\n",
        "matrix = confusion_matrix(t_test_female, y_pred_female, labels=[0, 1])\n",
        "disp = ConfusionMatrixDisplay(confusion_matrix=matrix, display_labels=final_model_1.classes_)\n",
        "disp.plot()\n",
        "plt.show()"
      ]
    },
    {
      "cell_type": "code",
      "execution_count": 65,
      "metadata": {
        "colab": {
          "base_uri": "https://localhost:8080/"
        },
        "id": "MnaEg4ML7-_W",
        "outputId": "73cade42-5065-48d2-df12-c2dbf90be485"
      },
      "outputs": [
        {
          "name": "stdout",
          "output_type": "stream",
          "text": [
            "\n",
            " Male Subgroup Performance：\n",
            "              precision    recall  f1-score   support\n",
            "\n",
            "         0.0     0.9421    0.9612    0.9516      6165\n",
            "         1.0     0.4882    0.3851    0.4306       592\n",
            "\n",
            "    accuracy                         0.9108      6757\n",
            "   macro avg     0.7152    0.6732    0.6911      6757\n",
            "weighted avg     0.9024    0.9108    0.9059      6757\n",
            "\n",
            "\n",
            " Female Subgroup Performance：\n",
            "              precision    recall  f1-score   support\n",
            "\n",
            "         0.0     0.9359    0.9974    0.9657      2724\n",
            "         1.0     0.9028    0.2590    0.4025       251\n",
            "\n",
            "    accuracy                         0.9351      2975\n",
            "   macro avg     0.9194    0.6282    0.6841      2975\n",
            "weighted avg     0.9331    0.9351    0.9182      2975\n",
            "\n",
            "\n",
            "\n",
            "Accuracy (ACC):\n",
            "Male Accuracy: 0.9108\n",
            "Female Accuracy: 0.9351\n",
            "Accuracy Difference（Gender Gap）: 0.0244\n",
            "\n",
            "\n",
            "False Positive Rate (FPR):\n",
            "Male FPR:   0.0388\n",
            "Female FPR: 0.0026\n",
            "FPR Gender Gap: 0.0362\n",
            "\n",
            "\n",
            "False Negative Rate (FNR):\n",
            "Male FNR:   0.6149\n",
            "Female FNR: 0.7410\n",
            "FNR Gender Gap: 0.1262\n"
          ]
        }
      ],
      "source": [
        "# Subgroup Performance Comparison\n",
        "print(\"\\n Male Subgroup Performance：\")\n",
        "print(classification_report(t_test_male, y_pred_male, digits=4))\n",
        "\n",
        "print(\"\\n Female Subgroup Performance：\")\n",
        "print(classification_report(t_test_female, y_pred_female, digits=4))\n",
        "\n",
        "# accuracy\n",
        "male_acc = accuracy_score(t_test_male, y_pred_male)\n",
        "female_acc = accuracy_score(t_test_female, y_pred_female)\n",
        "\n",
        "# confusion Matrix: [TN, FP], [FN, TP]\n",
        "male_cm = confusion_matrix(t_test_male, y_pred_male)\n",
        "female_cm = confusion_matrix(t_test_female, y_pred_female)\n",
        "\n",
        "# Male FPR and FNR\n",
        "male_TN, male_FP = male_cm[0]\n",
        "male_FN, male_TP = male_cm[1]\n",
        "\n",
        "male_fpr = male_FP / (male_FP + male_TN + 1e-10)\n",
        "male_fnr = male_FN / (male_FN + male_TP + 1e-10)\n",
        "\n",
        "# Female FPR and FNR\n",
        "female_TN, female_FP = female_cm[0]\n",
        "female_FN, female_TP = female_cm[1]\n",
        "\n",
        "female_fpr = female_FP / (female_FP + female_TN + 1e-10)\n",
        "female_fnr = female_FN / (female_FN + female_TP + 1e-10)\n",
        "\n",
        "print(\"\\n\")\n",
        "print(f\"Accuracy (ACC):\")\n",
        "print(f\"Male Accuracy: {male_acc:.4f}\")\n",
        "print(f\"Female Accuracy: {female_acc:.4f}\")\n",
        "print(f\"Accuracy Difference（Gender Gap）: {abs(male_acc - female_acc):.4f}\")\n",
        "print(\"\\n\")\n",
        "print(f\"False Positive Rate (FPR):\")\n",
        "print(f\"Male FPR:   {male_fpr:.4f}\")\n",
        "print(f\"Female FPR: {female_fpr:.4f}\")\n",
        "print(f\"FPR Gender Gap: {abs(male_fpr - female_fpr):.4f}\")\n",
        "print(\"\\n\")\n",
        "print(f\"False Negative Rate (FNR):\")\n",
        "print(f\"Male FNR:   {male_fnr:.4f}\")\n",
        "print(f\"Female FNR: {female_fnr:.4f}\")\n",
        "print(f\"FNR Gender Gap: {abs(male_fnr - female_fnr):.4f}\")"
      ]
    },
    {
      "cell_type": "markdown",
      "metadata": {
        "id": "D_KP2bIk9Mo_"
      },
      "source": [
        "## Section 9.3: New approach"
      ]
    },
    {
      "cell_type": "code",
      "execution_count": 66,
      "metadata": {
        "colab": {
          "base_uri": "https://localhost:8080/"
        },
        "id": "_GcjcSNc9Mo_",
        "outputId": "1c61b43b-599b-445b-ada9-a8b188465450"
      },
      "outputs": [
        {
          "name": "stdout",
          "output_type": "stream",
          "text": [
            "(37928, 51)\n"
          ]
        },
        {
          "data": {
            "text/plain": [
              "['c:\\\\Data\\\\Canada\\\\Study\\\\masters\\\\CSI5195 - Ethics in AI\\\\Project\\\\models\\\\model_kmeans_OOD.pkl']"
            ]
          },
          "execution_count": 66,
          "metadata": {},
          "output_type": "execute_result"
        }
      ],
      "source": [
        "# Extract Demographic Information from Training Dataset\n",
        "X_train_demographic = X_train_norm[:, 1:52]\n",
        "print(X_train_demographic.shape)\n",
        "\n",
        "# Subgroup Number\n",
        "k = 2\n",
        "\n",
        "# Build Subgroup Classfication\n",
        "model_5 = KMeans(n_clusters=k, random_state=88)\n",
        "\n",
        "# Fit Model\n",
        "cluster_labels_train = model_5.fit_predict(X_train_demographic)\n",
        "\n",
        "joblib.dump(model_5, os.path.join(ROOT, 'models', 'model_kmeans_OOD.pkl'))"
      ]
    },
    {
      "cell_type": "code",
      "execution_count": 67,
      "metadata": {
        "colab": {
          "base_uri": "https://localhost:8080/"
        },
        "id": "CkFtpGha9MpA",
        "outputId": "de91f85b-a9c5-47a7-9e3f-ae855f947bbe"
      },
      "outputs": [
        {
          "name": "stdout",
          "output_type": "stream",
          "text": [
            "Sample number in each subgroup:\n",
            "Subgroup 0 has 23154 data\n",
            "Subgroup 1 has 14774 data\n"
          ]
        }
      ],
      "source": [
        "print(\"Sample number in each subgroup:\")\n",
        "\n",
        "for cluster_id in np.unique(cluster_labels_train):\n",
        "\n",
        "    cluster_mask = cluster_labels_train == cluster_id\n",
        "    X_cluster = X_train_norm[cluster_mask]\n",
        "    number_subgroup = len(X_cluster)\n",
        "    print(\"Subgroup \" + str(cluster_id) + \" has \" + str(number_subgroup) + \" data\")"
      ]
    },
    {
      "cell_type": "code",
      "execution_count": 68,
      "metadata": {
        "colab": {
          "base_uri": "https://localhost:8080/"
        },
        "id": "G-98jcn59MpA",
        "outputId": "b01e3d7b-c84e-4534-c2a3-0dedec29c327"
      },
      "outputs": [
        {
          "name": "stdout",
          "output_type": "stream",
          "text": [
            "Subgroup 0 has 23154 data\n"
          ]
        },
        {
          "name": "stderr",
          "output_type": "stream",
          "text": [
            "c:\\Data\\Canada\\Study\\masters\\CSI5195 - Ethics in AI\\Project\\.venv\\lib\\site-packages\\sklearn\\neural_network\\_multilayer_perceptron.py:691: ConvergenceWarning: Stochastic Optimizer: Maximum iterations (200) reached and the optimization hasn't converged yet.\n",
            "  warnings.warn(\n"
          ]
        },
        {
          "name": "stdout",
          "output_type": "stream",
          "text": [
            "Cluster 0 is trained by using 23154 data\n",
            "\n",
            "\n",
            "Subgroup 1 has 14774 data\n",
            "Cluster 1 is trained by using 14774 data\n",
            "\n",
            "\n"
          ]
        },
        {
          "name": "stderr",
          "output_type": "stream",
          "text": [
            "c:\\Data\\Canada\\Study\\masters\\CSI5195 - Ethics in AI\\Project\\.venv\\lib\\site-packages\\sklearn\\neural_network\\_multilayer_perceptron.py:691: ConvergenceWarning: Stochastic Optimizer: Maximum iterations (200) reached and the optimization hasn't converged yet.\n",
            "  warnings.warn(\n"
          ]
        }
      ],
      "source": [
        "cluster_models = {}\n",
        "\n",
        "for cluster_id in np.unique(cluster_labels_train):\n",
        "\n",
        "\n",
        "    cluster_mask = cluster_labels_train == cluster_id\n",
        "\n",
        "    X_cluster = X_train_no_gender[cluster_mask]\n",
        "    y_cluster = t_train_no_gender[cluster_mask]\n",
        "    number_subgroup = len(X_cluster)\n",
        "\n",
        "    print(\"Subgroup \" + str(cluster_id) + \" has \" + str(number_subgroup) + \" data\")\n",
        "\n",
        "    # train MLP for each subgroup\n",
        "    subgroup_model_2 = MLPClassifier(activation='relu', hidden_layer_sizes=(128,), learning_rate_init=0.001, random_state=88)\n",
        "    subgroup_model_2.fit(X_cluster, y_cluster)\n",
        "\n",
        "    # save model\n",
        "    cluster_models[cluster_id] = subgroup_model_2\n",
        "    print(f\"Cluster {cluster_id} is trained by using {X_cluster.shape[0]} data\")\n",
        "    print(\"\\n\")"
      ]
    },
    {
      "cell_type": "code",
      "execution_count": 69,
      "metadata": {
        "id": "lzP2Cc8y9MpA"
      },
      "outputs": [],
      "source": [
        "X_test_demographic = X_test_norm[:, 1:52]\n",
        "cluster_labels_test = model_5.predict(X_test_demographic)\n",
        "\n",
        "\n",
        "y_pred_clustered = np.zeros_like(t_test_no_gender)\n",
        "\n",
        "\n",
        "for cluster_id in np.unique(cluster_labels_test):\n",
        "\n",
        "    cluster_mask_1 = cluster_labels_test == cluster_id\n",
        "\n",
        "    X_cluster_test = X_test_no_gender[cluster_mask_1]\n",
        "\n",
        "\n",
        "    classification_model = cluster_models[cluster_id]\n",
        "\n",
        "    # Save the model\n",
        "    joblib.dump(classification_model, os.path.join(ROOT, 'models', f'model_cluster_{cluster_id}_OOD.pkl'))\n",
        "\n",
        "    y_pred_1 = classification_model.predict(X_cluster_test)\n",
        "\n",
        "    y_pred_clustered[cluster_mask_1] = y_pred_1"
      ]
    },
    {
      "cell_type": "code",
      "execution_count": 70,
      "metadata": {
        "colab": {
          "base_uri": "https://localhost:8080/"
        },
        "id": "KQ_Hqehz9MpA",
        "outputId": "1705e90b-3cce-4ddc-9504-b9b470d5d79b"
      },
      "outputs": [
        {
          "name": "stdout",
          "output_type": "stream",
          "text": [
            "(9732,)\n",
            "(9732,)\n"
          ]
        }
      ],
      "source": [
        "print(y_pred_clustered.shape)\n",
        "print(t_test_no_gender.shape)"
      ]
    },
    {
      "cell_type": "code",
      "execution_count": 71,
      "metadata": {
        "colab": {
          "base_uri": "https://localhost:8080/",
          "height": 717
        },
        "id": "ITSDf5YZ9MpA",
        "outputId": "6a1992b2-4c34-4940-cbc4-ae139e85ebc4"
      },
      "outputs": [
        {
          "name": "stdout",
          "output_type": "stream",
          "text": [
            "\n",
            "\n",
            "Overall Performance:\n",
            "Accuracy: 0.9255034936292643\n",
            "\n",
            "\n",
            "              precision    recall  f1-score   support\n",
            "\n",
            "         0.0     0.9410    0.9799    0.9600      8889\n",
            "         1.0     0.6239    0.3523    0.4503       843\n",
            "\n",
            "    accuracy                         0.9255      9732\n",
            "   macro avg     0.7825    0.6661    0.7052      9732\n",
            "weighted avg     0.9135    0.9255    0.9159      9732\n",
            "\n"
          ]
        },
        {
          "data": {
            "image/png": "[encoded data removed]",
            "text/plain": [
              "<Figure size 640x480 with 2 Axes>"
            ]
          },
          "metadata": {},
          "output_type": "display_data"
        }
      ],
      "source": [
        "print(\"\\n\")\n",
        "print(\"Overall Performance:\")\n",
        "accuracy = accuracy_score(t_test_no_gender, y_pred_clustered)\n",
        "print('Accuracy:', accuracy)\n",
        "print(\"\\n\")\n",
        "\n",
        "# f1 = f1_score(t_test_no_gender, y_pred)\n",
        "# print('F1-score:', f1)\n",
        "\n",
        "print(classification_report(t_test_no_gender, y_pred_clustered, digits=4))\n",
        "\n",
        "matrix = confusion_matrix(t_test_no_gender, y_pred_clustered, labels=[0, 1])\n",
        "disp = ConfusionMatrixDisplay(confusion_matrix=matrix, display_labels=final_model_1.classes_)\n",
        "disp.plot()\n",
        "plt.show()"
      ]
    },
    {
      "cell_type": "code",
      "execution_count": 72,
      "metadata": {
        "id": "PHIVxVLA9MpA"
      },
      "outputs": [],
      "source": [
        "# Mask Creation\n",
        "male_mask = t_test_gender == 0\n",
        "female_mask = t_test_gender == 1\n",
        "\n",
        "# Male Subgroup\n",
        "t_test_male = t_test_no_gender[male_mask]\n",
        "y_pred_male = y_pred_clustered[male_mask]\n",
        "\n",
        "# Female Subgroup\n",
        "t_test_female = t_test_no_gender[female_mask]\n",
        "y_pred_female = y_pred_clustered[female_mask]"
      ]
    },
    {
      "cell_type": "code",
      "execution_count": 73,
      "metadata": {
        "colab": {
          "base_uri": "https://localhost:8080/",
          "height": 649
        },
        "id": "-Gim8Cp19MpB",
        "outputId": "40be3e40-3fbe-40b8-df31-b99f1b09846a"
      },
      "outputs": [
        {
          "name": "stdout",
          "output_type": "stream",
          "text": [
            "Male Subgroup Performance:\n",
            "Accuracy: 0.9237827438212224\n",
            "              precision    recall  f1-score   support\n",
            "\n",
            "         0.0     0.9403    0.9786    0.9591      6165\n",
            "         1.0     0.6129    0.3530    0.4480       592\n",
            "\n",
            "    accuracy                         0.9238      6757\n",
            "   macro avg     0.7766    0.6658    0.7035      6757\n",
            "weighted avg     0.9116    0.9238    0.9143      6757\n",
            "\n"
          ]
        },
        {
          "data": {
            "image/png": "[encoded data removed]",
            "text/plain": [
              "<Figure size 640x480 with 2 Axes>"
            ]
          },
          "metadata": {},
          "output_type": "display_data"
        }
      ],
      "source": [
        "print(\"Male Subgroup Performance:\")\n",
        "accuracy = accuracy_score(t_test_male, y_pred_male)\n",
        "print('Accuracy:', accuracy)\n",
        "\n",
        "print(classification_report(t_test_male, y_pred_male, digits=4))\n",
        "\n",
        "matrix = confusion_matrix(t_test_male, y_pred_male, labels=[0, 1])\n",
        "disp = ConfusionMatrixDisplay(confusion_matrix=matrix, display_labels=final_model_1.classes_)\n",
        "disp.plot()\n",
        "plt.show()"
      ]
    },
    {
      "cell_type": "code",
      "execution_count": 74,
      "metadata": {
        "colab": {
          "base_uri": "https://localhost:8080/",
          "height": 645
        },
        "id": "gNDdyP_t9MpB",
        "outputId": "3f5ed1be-ac86-4c71-dfb2-2ea613fe888e"
      },
      "outputs": [
        {
          "name": "stdout",
          "output_type": "stream",
          "text": [
            "Female Subgroup Performance:\n",
            "Accuracy: 0.9294117647058824\n",
            "              precision    recall  f1-score   support\n",
            "\n",
            "         0.0     0.9426    0.9827    0.9623      2724\n",
            "         1.0     0.6519    0.3506    0.4560       251\n",
            "\n",
            "    accuracy                         0.9294      2975\n",
            "   macro avg     0.7972    0.6667    0.7091      2975\n",
            "weighted avg     0.9181    0.9294    0.9195      2975\n",
            "\n"
          ]
        },
        {
          "data": {
            "image/png": "[encoded data removed]",
            "text/plain": [
              "<Figure size 640x480 with 2 Axes>"
            ]
          },
          "metadata": {},
          "output_type": "display_data"
        }
      ],
      "source": [
        "print(\"Female Subgroup Performance:\")\n",
        "accuracy = accuracy_score(t_test_female, y_pred_female)\n",
        "print('Accuracy:', accuracy)\n",
        "\n",
        "print(classification_report(t_test_female, y_pred_female, digits=4))\n",
        "\n",
        "matrix = confusion_matrix(t_test_female, y_pred_female, labels=[0, 1])\n",
        "disp = ConfusionMatrixDisplay(confusion_matrix=matrix, display_labels=final_model_1.classes_)\n",
        "disp.plot()\n",
        "plt.show()"
      ]
    },
    {
      "cell_type": "code",
      "execution_count": 75,
      "metadata": {
        "colab": {
          "base_uri": "https://localhost:8080/"
        },
        "id": "ywyt1xD19MpB",
        "outputId": "db10307d-6803-4c8e-8645-b927dbd449b3"
      },
      "outputs": [
        {
          "name": "stdout",
          "output_type": "stream",
          "text": [
            "\n",
            " Male Subgroup Performance：\n",
            "              precision    recall  f1-score   support\n",
            "\n",
            "         0.0     0.9403    0.9786    0.9591      6165\n",
            "         1.0     0.6129    0.3530    0.4480       592\n",
            "\n",
            "    accuracy                         0.9238      6757\n",
            "   macro avg     0.7766    0.6658    0.7035      6757\n",
            "weighted avg     0.9116    0.9238    0.9143      6757\n",
            "\n",
            "\n",
            " Female Subgroup Performance：\n",
            "              precision    recall  f1-score   support\n",
            "\n",
            "         0.0     0.9426    0.9827    0.9623      2724\n",
            "         1.0     0.6519    0.3506    0.4560       251\n",
            "\n",
            "    accuracy                         0.9294      2975\n",
            "   macro avg     0.7972    0.6667    0.7091      2975\n",
            "weighted avg     0.9181    0.9294    0.9195      2975\n",
            "\n",
            "\n",
            "\n",
            "Accuracy (ACC):\n",
            "Male Accuracy: 0.9238\n",
            "Female Accuracy: 0.9294\n",
            "Accuracy Difference（Gender Gap）: 0.0056\n",
            "\n",
            "\n",
            "False Positive Rate (FPR):\n",
            "Male FPR:   0.0214\n",
            "Female FPR: 0.0173\n",
            "FPR Gender Gap: 0.0042\n",
            "\n",
            "\n",
            "False Negative Rate (FNR):\n",
            "Male FNR:   0.6470\n",
            "Female FNR: 0.6494\n",
            "FNR Gender Gap: 0.0024\n"
          ]
        }
      ],
      "source": [
        "# Subgroup Performance Comparison\n",
        "print(\"\\n Male Subgroup Performance：\")\n",
        "print(classification_report(t_test_male, y_pred_male, digits=4))\n",
        "\n",
        "print(\"\\n Female Subgroup Performance：\")\n",
        "print(classification_report(t_test_female, y_pred_female, digits=4))\n",
        "\n",
        "# accuracy\n",
        "male_acc = accuracy_score(t_test_male, y_pred_male)\n",
        "female_acc = accuracy_score(t_test_female, y_pred_female)\n",
        "\n",
        "# confusion Matrix: [TN, FP], [FN, TP]\n",
        "male_cm = confusion_matrix(t_test_male, y_pred_male)\n",
        "female_cm = confusion_matrix(t_test_female, y_pred_female)\n",
        "\n",
        "# Male FPR and FNR\n",
        "male_TN, male_FP = male_cm[0]\n",
        "male_FN, male_TP = male_cm[1]\n",
        "\n",
        "male_fpr = male_FP / (male_FP + male_TN + 1e-10)\n",
        "male_fnr = male_FN / (male_FN + male_TP + 1e-10)\n",
        "\n",
        "# Female FPR and FNR\n",
        "female_TN, female_FP = female_cm[0]\n",
        "female_FN, female_TP = female_cm[1]\n",
        "\n",
        "female_fpr = female_FP / (female_FP + female_TN + 1e-10)\n",
        "female_fnr = female_FN / (female_FN + female_TP + 1e-10)\n",
        "\n",
        "print(\"\\n\")\n",
        "print(f\"Accuracy (ACC):\")\n",
        "print(f\"Male Accuracy: {male_acc:.4f}\")\n",
        "print(f\"Female Accuracy: {female_acc:.4f}\")\n",
        "print(f\"Accuracy Difference（Gender Gap）: {abs(male_acc - female_acc):.4f}\")\n",
        "print(\"\\n\")\n",
        "print(f\"False Positive Rate (FPR):\")\n",
        "print(f\"Male FPR:   {male_fpr:.4f}\")\n",
        "print(f\"Female FPR: {female_fpr:.4f}\")\n",
        "print(f\"FPR Gender Gap: {abs(male_fpr - female_fpr):.4f}\")\n",
        "print(\"\\n\")\n",
        "print(f\"False Negative Rate (FNR):\")\n",
        "print(f\"Male FNR:   {male_fnr:.4f}\")\n",
        "print(f\"Female FNR: {female_fnr:.4f}\")\n",
        "print(f\"FNR Gender Gap: {abs(male_fnr - female_fnr):.4f}\")"
      ]
    },
    {
      "cell_type": "code",
      "execution_count": 76,
      "metadata": {},
      "outputs": [],
      "source": [
        "class_names = np.array(['Not Promoted', 'Promoted'])\n",
        "# Save the class names\n",
        "np.save(os.path.join(ROOT, \"content\", \"class_names.npy\"), class_names)"
      ]
    }
  ],
  "metadata": {
    "colab": {
      "provenance": []
    },
    "kernelspec": {
      "display_name": ".venv",
      "language": "python",
      "name": "python3"
    },
    "language_info": {
      "codemirror_mode": {
        "name": "ipython",
        "version": 3
      },
      "file_extension": ".py",
      "mimetype": "text/x-python",
      "name": "python",
      "nbconvert_exporter": "python",
      "pygments_lexer": "ipython3",
      "version": "3.10.7"
    }
  },
  "nbformat": 4,
  "nbformat_minor": 0
}
